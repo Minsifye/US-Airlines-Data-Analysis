{
 "cells": [
  {
   "cell_type": "code",
   "execution_count": 1,
   "metadata": {},
   "outputs": [],
   "source": [
    "import pandas as pd\n",
    "import numpy as np\n",
    "import matplotlib.pyplot as plt\n",
    "import seaborn as sns\n",
    "%matplotlib inline\n",
    "import sqlite3"
   ]
  },
  {
   "cell_type": "code",
   "execution_count": 2,
   "metadata": {},
   "outputs": [],
   "source": [
    "from sqlalchemy import create_engine\n",
    "#engine = create_engine('sqlite://', echo=False)\n",
    "#engine = create_engine('sqlite:////Users/monikabagyal/Google_drive_minsifye/Courses/Spring2020/InnovationAnalytics/GroupProject/', echo=False)\n",
    "\n",
    "sql_engine = create_engine('sqlite:///test.db', echo=False)\n",
    "connection = sql_engine.raw_connection()\n"
   ]
  },
  {
   "cell_type": "code",
   "execution_count": 3,
   "metadata": {},
   "outputs": [
    {
     "data": {
      "text/plain": [
       "'/Users/monikabagyal/Google_drive_minsifye/Courses/Spring2020/InnovationAnalytics/GroupProject'"
      ]
     },
     "execution_count": 3,
     "metadata": {},
     "output_type": "execute_result"
    }
   ],
   "source": [
    "pwd"
   ]
  },
  {
   "cell_type": "code",
   "execution_count": 379,
   "metadata": {},
   "outputs": [],
   "source": [
    "skytrax = pd.read_excel(\"skytrax.xlsx\")"
   ]
  },
  {
   "cell_type": "code",
   "execution_count": 380,
   "metadata": {},
   "outputs": [
    {
     "data": {
      "text/html": [
       "<div>\n",
       "<style scoped>\n",
       "    .dataframe tbody tr th:only-of-type {\n",
       "        vertical-align: middle;\n",
       "    }\n",
       "\n",
       "    .dataframe tbody tr th {\n",
       "        vertical-align: top;\n",
       "    }\n",
       "\n",
       "    .dataframe thead th {\n",
       "        text-align: right;\n",
       "    }\n",
       "</style>\n",
       "<table border=\"1\" class=\"dataframe\">\n",
       "  <thead>\n",
       "    <tr style=\"text-align: right;\">\n",
       "      <th></th>\n",
       "      <th>airline</th>\n",
       "      <th>overall</th>\n",
       "      <th>author</th>\n",
       "      <th>review_date</th>\n",
       "      <th>customer_review</th>\n",
       "      <th>aircraft</th>\n",
       "      <th>traveller_type</th>\n",
       "      <th>cabin</th>\n",
       "      <th>route</th>\n",
       "      <th>date_flown</th>\n",
       "      <th>seat_comfort</th>\n",
       "      <th>cabin_service</th>\n",
       "      <th>food_bev</th>\n",
       "      <th>entertainment</th>\n",
       "      <th>ground_service</th>\n",
       "      <th>value_for_money</th>\n",
       "      <th>recommended</th>\n",
       "    </tr>\n",
       "  </thead>\n",
       "  <tbody>\n",
       "    <tr>\n",
       "      <th>0</th>\n",
       "      <td>NaN</td>\n",
       "      <td>NaN</td>\n",
       "      <td>NaN</td>\n",
       "      <td>NaN</td>\n",
       "      <td>NaN</td>\n",
       "      <td>NaN</td>\n",
       "      <td>NaN</td>\n",
       "      <td>NaN</td>\n",
       "      <td>NaN</td>\n",
       "      <td>NaT</td>\n",
       "      <td>NaN</td>\n",
       "      <td>NaN</td>\n",
       "      <td>NaN</td>\n",
       "      <td>NaN</td>\n",
       "      <td>NaN</td>\n",
       "      <td>NaN</td>\n",
       "      <td>NaN</td>\n",
       "    </tr>\n",
       "    <tr>\n",
       "      <th>1</th>\n",
       "      <td>Turkish Airlines</td>\n",
       "      <td>7.0</td>\n",
       "      <td>Christopher Hackley</td>\n",
       "      <td>8th May 2019</td>\n",
       "      <td>âœ… Trip Verified | London to Izmir via Istanb...</td>\n",
       "      <td>NaN</td>\n",
       "      <td>Business</td>\n",
       "      <td>Economy Class</td>\n",
       "      <td>London to Izmir via Istanbul</td>\n",
       "      <td>2019-05-01</td>\n",
       "      <td>4.0</td>\n",
       "      <td>5.0</td>\n",
       "      <td>4.0</td>\n",
       "      <td>4.0</td>\n",
       "      <td>2.0</td>\n",
       "      <td>4.0</td>\n",
       "      <td>yes</td>\n",
       "    </tr>\n",
       "    <tr>\n",
       "      <th>2</th>\n",
       "      <td>NaN</td>\n",
       "      <td>NaN</td>\n",
       "      <td>NaN</td>\n",
       "      <td>NaN</td>\n",
       "      <td>NaN</td>\n",
       "      <td>NaN</td>\n",
       "      <td>NaN</td>\n",
       "      <td>NaN</td>\n",
       "      <td>NaN</td>\n",
       "      <td>NaT</td>\n",
       "      <td>NaN</td>\n",
       "      <td>NaN</td>\n",
       "      <td>NaN</td>\n",
       "      <td>NaN</td>\n",
       "      <td>NaN</td>\n",
       "      <td>NaN</td>\n",
       "      <td>NaN</td>\n",
       "    </tr>\n",
       "    <tr>\n",
       "      <th>3</th>\n",
       "      <td>Turkish Airlines</td>\n",
       "      <td>2.0</td>\n",
       "      <td>Adriana Pisoi</td>\n",
       "      <td>7th May 2019</td>\n",
       "      <td>âœ… Trip Verified | Istanbul to Bucharest. We ...</td>\n",
       "      <td>NaN</td>\n",
       "      <td>Family Leisure</td>\n",
       "      <td>Economy Class</td>\n",
       "      <td>Istanbul to Bucharest</td>\n",
       "      <td>2019-05-01</td>\n",
       "      <td>4.0</td>\n",
       "      <td>1.0</td>\n",
       "      <td>1.0</td>\n",
       "      <td>1.0</td>\n",
       "      <td>1.0</td>\n",
       "      <td>1.0</td>\n",
       "      <td>no</td>\n",
       "    </tr>\n",
       "    <tr>\n",
       "      <th>4</th>\n",
       "      <td>NaN</td>\n",
       "      <td>NaN</td>\n",
       "      <td>NaN</td>\n",
       "      <td>NaN</td>\n",
       "      <td>NaN</td>\n",
       "      <td>NaN</td>\n",
       "      <td>NaN</td>\n",
       "      <td>NaN</td>\n",
       "      <td>NaN</td>\n",
       "      <td>NaT</td>\n",
       "      <td>NaN</td>\n",
       "      <td>NaN</td>\n",
       "      <td>NaN</td>\n",
       "      <td>NaN</td>\n",
       "      <td>NaN</td>\n",
       "      <td>NaN</td>\n",
       "      <td>NaN</td>\n",
       "    </tr>\n",
       "  </tbody>\n",
       "</table>\n",
       "</div>"
      ],
      "text/plain": [
       "            airline  overall               author   review_date  \\\n",
       "0               NaN      NaN                  NaN           NaN   \n",
       "1  Turkish Airlines      7.0  Christopher Hackley  8th May 2019   \n",
       "2               NaN      NaN                  NaN           NaN   \n",
       "3  Turkish Airlines      2.0        Adriana Pisoi  7th May 2019   \n",
       "4               NaN      NaN                  NaN           NaN   \n",
       "\n",
       "                                     customer_review aircraft  traveller_type  \\\n",
       "0                                                NaN      NaN             NaN   \n",
       "1  âœ… Trip Verified | London to Izmir via Istanb...      NaN        Business   \n",
       "2                                                NaN      NaN             NaN   \n",
       "3  âœ… Trip Verified | Istanbul to Bucharest. We ...      NaN  Family Leisure   \n",
       "4                                                NaN      NaN             NaN   \n",
       "\n",
       "           cabin                         route date_flown  seat_comfort  \\\n",
       "0            NaN                           NaN        NaT           NaN   \n",
       "1  Economy Class  London to Izmir via Istanbul 2019-05-01           4.0   \n",
       "2            NaN                           NaN        NaT           NaN   \n",
       "3  Economy Class         Istanbul to Bucharest 2019-05-01           4.0   \n",
       "4            NaN                           NaN        NaT           NaN   \n",
       "\n",
       "   cabin_service  food_bev  entertainment  ground_service  value_for_money  \\\n",
       "0            NaN       NaN            NaN             NaN              NaN   \n",
       "1            5.0       4.0            4.0             2.0              4.0   \n",
       "2            NaN       NaN            NaN             NaN              NaN   \n",
       "3            1.0       1.0            1.0             1.0              1.0   \n",
       "4            NaN       NaN            NaN             NaN              NaN   \n",
       "\n",
       "  recommended  \n",
       "0         NaN  \n",
       "1         yes  \n",
       "2         NaN  \n",
       "3          no  \n",
       "4         NaN  "
      ]
     },
     "execution_count": 380,
     "metadata": {},
     "output_type": "execute_result"
    }
   ],
   "source": [
    "skytrax.head()"
   ]
  },
  {
   "cell_type": "markdown",
   "metadata": {},
   "source": [
    "### Working with only US Domestic Airlines"
   ]
  },
  {
   "cell_type": "code",
   "execution_count": 381,
   "metadata": {},
   "outputs": [
    {
     "data": {
      "text/html": [
       "<div>\n",
       "<style scoped>\n",
       "    .dataframe tbody tr th:only-of-type {\n",
       "        vertical-align: middle;\n",
       "    }\n",
       "\n",
       "    .dataframe tbody tr th {\n",
       "        vertical-align: top;\n",
       "    }\n",
       "\n",
       "    .dataframe thead th {\n",
       "        text-align: right;\n",
       "    }\n",
       "</style>\n",
       "<table border=\"1\" class=\"dataframe\">\n",
       "  <thead>\n",
       "    <tr style=\"text-align: right;\">\n",
       "      <th></th>\n",
       "      <th>airline</th>\n",
       "      <th>overall</th>\n",
       "      <th>author</th>\n",
       "      <th>review_date</th>\n",
       "      <th>customer_review</th>\n",
       "      <th>aircraft</th>\n",
       "      <th>traveller_type</th>\n",
       "      <th>cabin</th>\n",
       "      <th>route</th>\n",
       "      <th>date_flown</th>\n",
       "      <th>seat_comfort</th>\n",
       "      <th>cabin_service</th>\n",
       "      <th>food_bev</th>\n",
       "      <th>entertainment</th>\n",
       "      <th>ground_service</th>\n",
       "      <th>value_for_money</th>\n",
       "      <th>recommended</th>\n",
       "    </tr>\n",
       "  </thead>\n",
       "  <tbody>\n",
       "    <tr>\n",
       "      <th>0</th>\n",
       "      <td>American Airlines</td>\n",
       "      <td>5.0</td>\n",
       "      <td>B Merton</td>\n",
       "      <td>11th May 2019</td>\n",
       "      <td>âœ… Trip Verified | We were scheduled to fly f...</td>\n",
       "      <td>Boeing 737-8</td>\n",
       "      <td>Couple Leisure</td>\n",
       "      <td>First Class</td>\n",
       "      <td>Miami to Orlando</td>\n",
       "      <td>2019-05-01</td>\n",
       "      <td>5.0</td>\n",
       "      <td>5.0</td>\n",
       "      <td>5.0</td>\n",
       "      <td>NaN</td>\n",
       "      <td>3.0</td>\n",
       "      <td>3.0</td>\n",
       "      <td>no</td>\n",
       "    </tr>\n",
       "    <tr>\n",
       "      <th>1</th>\n",
       "      <td>American Airlines</td>\n",
       "      <td>1.0</td>\n",
       "      <td>Dave Benton</td>\n",
       "      <td>10th May 2019</td>\n",
       "      <td>Not Verified | I had a flight from Dallas to S...</td>\n",
       "      <td>Boeing 737-800</td>\n",
       "      <td>Family Leisure</td>\n",
       "      <td>Premium Economy</td>\n",
       "      <td>Dallas to San Diego</td>\n",
       "      <td>2019-05-01</td>\n",
       "      <td>1.0</td>\n",
       "      <td>2.0</td>\n",
       "      <td>2.0</td>\n",
       "      <td>2.0</td>\n",
       "      <td>1.0</td>\n",
       "      <td>1.0</td>\n",
       "      <td>no</td>\n",
       "    </tr>\n",
       "    <tr>\n",
       "      <th>2</th>\n",
       "      <td>American Airlines</td>\n",
       "      <td>1.0</td>\n",
       "      <td>J Richard</td>\n",
       "      <td>10th May 2019</td>\n",
       "      <td>Not Verified | Pittsburgh to Tampa. Every sing...</td>\n",
       "      <td>NaN</td>\n",
       "      <td>Family Leisure</td>\n",
       "      <td>Economy Class</td>\n",
       "      <td>Pittsburgh to Tampa</td>\n",
       "      <td>2019-04-01</td>\n",
       "      <td>1.0</td>\n",
       "      <td>1.0</td>\n",
       "      <td>NaN</td>\n",
       "      <td>NaN</td>\n",
       "      <td>1.0</td>\n",
       "      <td>1.0</td>\n",
       "      <td>no</td>\n",
       "    </tr>\n",
       "    <tr>\n",
       "      <th>3</th>\n",
       "      <td>American Airlines</td>\n",
       "      <td>1.0</td>\n",
       "      <td>G Meares</td>\n",
       "      <td>9th May 2019</td>\n",
       "      <td>âœ… Trip Verified | Dallas to Atlanta. You hav...</td>\n",
       "      <td>NaN</td>\n",
       "      <td>Business</td>\n",
       "      <td>Economy Class</td>\n",
       "      <td>Dallas to Atlanta</td>\n",
       "      <td>2019-05-01</td>\n",
       "      <td>3.0</td>\n",
       "      <td>2.0</td>\n",
       "      <td>1.0</td>\n",
       "      <td>1.0</td>\n",
       "      <td>1.0</td>\n",
       "      <td>1.0</td>\n",
       "      <td>no</td>\n",
       "    </tr>\n",
       "    <tr>\n",
       "      <th>4</th>\n",
       "      <td>American Airlines</td>\n",
       "      <td>3.0</td>\n",
       "      <td>S Klein</td>\n",
       "      <td>8th May 2019</td>\n",
       "      <td>âœ… Trip Verified | Tampa to Vancouver via Dal...</td>\n",
       "      <td>NaN</td>\n",
       "      <td>Couple Leisure</td>\n",
       "      <td>Economy Class</td>\n",
       "      <td>Tampa to Vancouver via Dallas</td>\n",
       "      <td>2019-05-01</td>\n",
       "      <td>1.0</td>\n",
       "      <td>1.0</td>\n",
       "      <td>1.0</td>\n",
       "      <td>3.0</td>\n",
       "      <td>1.0</td>\n",
       "      <td>1.0</td>\n",
       "      <td>no</td>\n",
       "    </tr>\n",
       "  </tbody>\n",
       "</table>\n",
       "</div>"
      ],
      "text/plain": [
       "             airline  overall       author    review_date  \\\n",
       "0  American Airlines      5.0     B Merton  11th May 2019   \n",
       "1  American Airlines      1.0  Dave Benton  10th May 2019   \n",
       "2  American Airlines      1.0    J Richard  10th May 2019   \n",
       "3  American Airlines      1.0     G Meares   9th May 2019   \n",
       "4  American Airlines      3.0      S Klein   8th May 2019   \n",
       "\n",
       "                                     customer_review        aircraft  \\\n",
       "0  âœ… Trip Verified | We were scheduled to fly f...    Boeing 737-8   \n",
       "1  Not Verified | I had a flight from Dallas to S...  Boeing 737-800   \n",
       "2  Not Verified | Pittsburgh to Tampa. Every sing...             NaN   \n",
       "3  âœ… Trip Verified | Dallas to Atlanta. You hav...             NaN   \n",
       "4  âœ… Trip Verified | Tampa to Vancouver via Dal...             NaN   \n",
       "\n",
       "   traveller_type            cabin                          route date_flown  \\\n",
       "0  Couple Leisure      First Class               Miami to Orlando 2019-05-01   \n",
       "1  Family Leisure  Premium Economy            Dallas to San Diego 2019-05-01   \n",
       "2  Family Leisure    Economy Class            Pittsburgh to Tampa 2019-04-01   \n",
       "3        Business    Economy Class              Dallas to Atlanta 2019-05-01   \n",
       "4  Couple Leisure    Economy Class  Tampa to Vancouver via Dallas 2019-05-01   \n",
       "\n",
       "   seat_comfort  cabin_service  food_bev  entertainment  ground_service  \\\n",
       "0           5.0            5.0       5.0            NaN             3.0   \n",
       "1           1.0            2.0       2.0            2.0             1.0   \n",
       "2           1.0            1.0       NaN            NaN             1.0   \n",
       "3           3.0            2.0       1.0            1.0             1.0   \n",
       "4           1.0            1.0       1.0            3.0             1.0   \n",
       "\n",
       "   value_for_money recommended  \n",
       "0              3.0          no  \n",
       "1              1.0          no  \n",
       "2              1.0          no  \n",
       "3              1.0          no  \n",
       "4              1.0          no  "
      ]
     },
     "execution_count": 381,
     "metadata": {},
     "output_type": "execute_result"
    }
   ],
   "source": [
    "skytrax = skytrax[skytrax['airline'].isin(['American Airlines', 'Delta Air Lines', 'Southwest Airlines', 'United Airlines','Jetblue Airways', 'Frontier Airlines', 'Spirit Airlines'])]\n",
    "skytrax.reset_index(inplace=True)\n",
    "skytrax.drop('index', inplace=True, axis=1)\n",
    "skytrax.head()"
   ]
  },
  {
   "cell_type": "code",
   "execution_count": 382,
   "metadata": {},
   "outputs": [
    {
     "name": "stdout",
     "output_type": "stream",
     "text": [
      "Total rows: 13359\n"
     ]
    }
   ],
   "source": [
    "print(\"Total rows:\",skytrax.shape[0])"
   ]
  },
  {
   "cell_type": "code",
   "execution_count": 383,
   "metadata": {},
   "outputs": [
    {
     "data": {
      "text/plain": [
       "Spirit Airlines       2934\n",
       "American Airlines     2867\n",
       "United Airlines       2829\n",
       "Frontier Airlines     1624\n",
       "Delta Air Lines       1547\n",
       "Southwest Airlines     913\n",
       "Jetblue Airways        645\n",
       "Name: airline, dtype: int64"
      ]
     },
     "execution_count": 383,
     "metadata": {},
     "output_type": "execute_result"
    }
   ],
   "source": [
    "skytrax.airline.value_counts()"
   ]
  },
  {
   "cell_type": "markdown",
   "metadata": {},
   "source": [
    "# Total Customer Reviews for Each Airline"
   ]
  },
  {
   "cell_type": "code",
   "execution_count": 384,
   "metadata": {},
   "outputs": [
    {
     "data": {
      "image/png": "[encoded data removed]",
      "text/plain": [
       "<matplotlib.figure.Figure at 0x1a34606400>"
      ]
     },
     "metadata": {},
     "output_type": "display_data"
    }
   ],
   "source": [
    "skytrax.airline.value_counts().plot(kind='barh', title='Total Customer Reviews per airline', figsize=(10,6), color='orange');\n",
    "plt.xlabel('Reviews')\n",
    "plt.ylabel('Airline');\n",
    "#plt.savefig('plot1.png', bbox_inches = 'tight');"
   ]
  },
  {
   "cell_type": "markdown",
   "metadata": {},
   "source": [
    "### Percentage of missing values per column "
   ]
  },
  {
   "cell_type": "code",
   "execution_count": 385,
   "metadata": {},
   "outputs": [
    {
     "data": {
      "text/plain": [
       "airline            0.000000\n",
       "overall            0.028071\n",
       "author             0.000000\n",
       "review_date        0.000000\n",
       "customer_review    0.000000\n",
       "aircraft           0.833820\n",
       "traveller_type     0.277117\n",
       "cabin              0.094768\n",
       "route              0.277940\n",
       "date_flown         0.278838\n",
       "seat_comfort       0.062205\n",
       "cabin_service      0.059361\n",
       "food_bev           0.299948\n",
       "entertainment      0.413504\n",
       "ground_service     0.283180\n",
       "value_for_money    0.027397\n",
       "recommended        0.023804\n",
       "dtype: float64"
      ]
     },
     "execution_count": 385,
     "metadata": {},
     "output_type": "execute_result"
    }
   ],
   "source": [
    "np.sum(skytrax.isnull())/skytrax.shape[0]"
   ]
  },
  {
   "cell_type": "markdown",
   "metadata": {},
   "source": [
    "## Dropping Aircraft and Route column"
   ]
  },
  {
   "cell_type": "code",
   "execution_count": 386,
   "metadata": {},
   "outputs": [],
   "source": [
    "skytrax = skytrax[['airline', 'overall', 'author', 'review_date', 'customer_review',\n",
    "       'traveller_type', 'cabin', 'date_flown',\n",
    "       'seat_comfort', 'cabin_service', 'food_bev', 'entertainment',\n",
    "       'ground_service', 'value_for_money', 'recommended']]"
   ]
  },
  {
   "cell_type": "code",
   "execution_count": 426,
   "metadata": {},
   "outputs": [],
   "source": [
    "old_skytrax = skytrax.copy()"
   ]
  },
  {
   "cell_type": "markdown",
   "metadata": {},
   "source": [
    "# Handling Missing Values\n",
    "### these columns seat_comfort\tcabin_service\tfood_bev\tentertainment\tground_service\tvalue_for_money\tneed to be filled with mean() value"
   ]
  },
  {
   "cell_type": "code",
   "execution_count": 389,
   "metadata": {},
   "outputs": [],
   "source": [
    "skytrax[['seat_comfort', 'cabin_service', 'food_bev', 'entertainment',\n",
    "       'ground_service', 'value_for_money']] = skytrax[['seat_comfort', 'cabin_service', 'food_bev', 'entertainment',\n",
    "       'ground_service', 'value_for_money']].apply(lambda row: row.fillna(row.mean()), axis=1)"
   ]
  },
  {
   "cell_type": "code",
   "execution_count": 390,
   "metadata": {},
   "outputs": [],
   "source": [
    "skytrax[['seat_comfort', 'cabin_service', 'food_bev', 'entertainment',\n",
    "       'ground_service', 'value_for_money']] = skytrax[['seat_comfort', 'cabin_service', 'food_bev', 'entertainment',\n",
    "       'ground_service', 'value_for_money']].apply(lambda row: row.fillna(0), axis=1)"
   ]
  },
  {
   "cell_type": "code",
   "execution_count": 391,
   "metadata": {},
   "outputs": [],
   "source": [
    "skytrax[['overall', 'seat_comfort', 'cabin_service', 'food_bev', 'entertainment',\n",
    "       'ground_service', 'value_for_money']] = skytrax[['overall', 'seat_comfort', 'cabin_service', 'food_bev', 'entertainment',\n",
    "       'ground_service', 'value_for_money']].apply(lambda row: row.fillna(row.mean()), axis=1)"
   ]
  },
  {
   "cell_type": "code",
   "execution_count": 392,
   "metadata": {},
   "outputs": [
    {
     "data": {
      "text/plain": [
       "airline             0.000000\n",
       "overall             0.000000\n",
       "author              0.000000\n",
       "review_date         0.000000\n",
       "customer_review     0.000000\n",
       "traveller_type     27.711655\n",
       "cabin               9.476757\n",
       "date_flown         27.883824\n",
       "seat_comfort        0.000000\n",
       "cabin_service       0.000000\n",
       "food_bev            0.000000\n",
       "entertainment       0.000000\n",
       "ground_service      0.000000\n",
       "value_for_money     0.000000\n",
       "recommended         2.380418\n",
       "dtype: float64"
      ]
     },
     "execution_count": 392,
     "metadata": {},
     "output_type": "execute_result"
    }
   ],
   "source": [
    "(np.sum(skytrax.isnull())/skytrax.shape[0])*100"
   ]
  },
  {
   "cell_type": "code",
   "execution_count": 393,
   "metadata": {},
   "outputs": [
    {
     "data": {
      "text/html": [
       "<div>\n",
       "<style scoped>\n",
       "    .dataframe tbody tr th:only-of-type {\n",
       "        vertical-align: middle;\n",
       "    }\n",
       "\n",
       "    .dataframe tbody tr th {\n",
       "        vertical-align: top;\n",
       "    }\n",
       "\n",
       "    .dataframe thead th {\n",
       "        text-align: right;\n",
       "    }\n",
       "</style>\n",
       "<table border=\"1\" class=\"dataframe\">\n",
       "  <thead>\n",
       "    <tr style=\"text-align: right;\">\n",
       "      <th></th>\n",
       "      <th>airline</th>\n",
       "      <th>overall</th>\n",
       "      <th>author</th>\n",
       "      <th>review_date</th>\n",
       "      <th>customer_review</th>\n",
       "      <th>traveller_type</th>\n",
       "      <th>cabin</th>\n",
       "      <th>date_flown</th>\n",
       "      <th>seat_comfort</th>\n",
       "      <th>cabin_service</th>\n",
       "      <th>food_bev</th>\n",
       "      <th>entertainment</th>\n",
       "      <th>ground_service</th>\n",
       "      <th>value_for_money</th>\n",
       "      <th>recommended</th>\n",
       "    </tr>\n",
       "  </thead>\n",
       "  <tbody>\n",
       "    <tr>\n",
       "      <th>0</th>\n",
       "      <td>American Airlines</td>\n",
       "      <td>5.0</td>\n",
       "      <td>B Merton</td>\n",
       "      <td>11th May 2019</td>\n",
       "      <td>âœ… Trip Verified | We were scheduled to fly f...</td>\n",
       "      <td>Couple Leisure</td>\n",
       "      <td>First Class</td>\n",
       "      <td>2019-05-01</td>\n",
       "      <td>5.0</td>\n",
       "      <td>5.0</td>\n",
       "      <td>5.0</td>\n",
       "      <td>4.2</td>\n",
       "      <td>3.0</td>\n",
       "      <td>3.0</td>\n",
       "      <td>no</td>\n",
       "    </tr>\n",
       "    <tr>\n",
       "      <th>1</th>\n",
       "      <td>American Airlines</td>\n",
       "      <td>1.0</td>\n",
       "      <td>Dave Benton</td>\n",
       "      <td>10th May 2019</td>\n",
       "      <td>Not Verified | I had a flight from Dallas to S...</td>\n",
       "      <td>Family Leisure</td>\n",
       "      <td>Premium Economy</td>\n",
       "      <td>2019-05-01</td>\n",
       "      <td>1.0</td>\n",
       "      <td>2.0</td>\n",
       "      <td>2.0</td>\n",
       "      <td>2.0</td>\n",
       "      <td>1.0</td>\n",
       "      <td>1.0</td>\n",
       "      <td>no</td>\n",
       "    </tr>\n",
       "    <tr>\n",
       "      <th>2</th>\n",
       "      <td>American Airlines</td>\n",
       "      <td>1.0</td>\n",
       "      <td>J Richard</td>\n",
       "      <td>10th May 2019</td>\n",
       "      <td>Not Verified | Pittsburgh to Tampa. Every sing...</td>\n",
       "      <td>Family Leisure</td>\n",
       "      <td>Economy Class</td>\n",
       "      <td>2019-04-01</td>\n",
       "      <td>1.0</td>\n",
       "      <td>1.0</td>\n",
       "      <td>1.0</td>\n",
       "      <td>1.0</td>\n",
       "      <td>1.0</td>\n",
       "      <td>1.0</td>\n",
       "      <td>no</td>\n",
       "    </tr>\n",
       "    <tr>\n",
       "      <th>3</th>\n",
       "      <td>American Airlines</td>\n",
       "      <td>1.0</td>\n",
       "      <td>G Meares</td>\n",
       "      <td>9th May 2019</td>\n",
       "      <td>âœ… Trip Verified | Dallas to Atlanta. You hav...</td>\n",
       "      <td>Business</td>\n",
       "      <td>Economy Class</td>\n",
       "      <td>2019-05-01</td>\n",
       "      <td>3.0</td>\n",
       "      <td>2.0</td>\n",
       "      <td>1.0</td>\n",
       "      <td>1.0</td>\n",
       "      <td>1.0</td>\n",
       "      <td>1.0</td>\n",
       "      <td>no</td>\n",
       "    </tr>\n",
       "    <tr>\n",
       "      <th>4</th>\n",
       "      <td>American Airlines</td>\n",
       "      <td>3.0</td>\n",
       "      <td>S Klein</td>\n",
       "      <td>8th May 2019</td>\n",
       "      <td>âœ… Trip Verified | Tampa to Vancouver via Dal...</td>\n",
       "      <td>Couple Leisure</td>\n",
       "      <td>Economy Class</td>\n",
       "      <td>2019-05-01</td>\n",
       "      <td>1.0</td>\n",
       "      <td>1.0</td>\n",
       "      <td>1.0</td>\n",
       "      <td>3.0</td>\n",
       "      <td>1.0</td>\n",
       "      <td>1.0</td>\n",
       "      <td>no</td>\n",
       "    </tr>\n",
       "  </tbody>\n",
       "</table>\n",
       "</div>"
      ],
      "text/plain": [
       "             airline  overall       author    review_date  \\\n",
       "0  American Airlines      5.0     B Merton  11th May 2019   \n",
       "1  American Airlines      1.0  Dave Benton  10th May 2019   \n",
       "2  American Airlines      1.0    J Richard  10th May 2019   \n",
       "3  American Airlines      1.0     G Meares   9th May 2019   \n",
       "4  American Airlines      3.0      S Klein   8th May 2019   \n",
       "\n",
       "                                     customer_review  traveller_type  \\\n",
       "0  âœ… Trip Verified | We were scheduled to fly f...  Couple Leisure   \n",
       "1  Not Verified | I had a flight from Dallas to S...  Family Leisure   \n",
       "2  Not Verified | Pittsburgh to Tampa. Every sing...  Family Leisure   \n",
       "3  âœ… Trip Verified | Dallas to Atlanta. You hav...        Business   \n",
       "4  âœ… Trip Verified | Tampa to Vancouver via Dal...  Couple Leisure   \n",
       "\n",
       "             cabin date_flown  seat_comfort  cabin_service  food_bev  \\\n",
       "0      First Class 2019-05-01           5.0            5.0       5.0   \n",
       "1  Premium Economy 2019-05-01           1.0            2.0       2.0   \n",
       "2    Economy Class 2019-04-01           1.0            1.0       1.0   \n",
       "3    Economy Class 2019-05-01           3.0            2.0       1.0   \n",
       "4    Economy Class 2019-05-01           1.0            1.0       1.0   \n",
       "\n",
       "   entertainment  ground_service  value_for_money recommended  \n",
       "0            4.2             3.0              3.0          no  \n",
       "1            2.0             1.0              1.0          no  \n",
       "2            1.0             1.0              1.0          no  \n",
       "3            1.0             1.0              1.0          no  \n",
       "4            3.0             1.0              1.0          no  "
      ]
     },
     "execution_count": 393,
     "metadata": {},
     "output_type": "execute_result"
    }
   ],
   "source": [
    "skytrax.head()"
   ]
  },
  {
   "cell_type": "code",
   "execution_count": null,
   "metadata": {},
   "outputs": [],
   "source": []
  },
  {
   "cell_type": "code",
   "execution_count": 394,
   "metadata": {},
   "outputs": [
    {
     "name": "stderr",
     "output_type": "stream",
     "text": [
      "/Users/monikabagyal/anaconda3/envs/mona/lib/python3.5/site-packages/ipykernel_launcher.py:2: DeprecationWarning: \n",
      ".ix is deprecated. Please use\n",
      ".loc for label based indexing or\n",
      ".iloc for positional indexing\n",
      "\n",
      "See the documentation here:\n",
      "http://pandas.pydata.org/pandas-docs/stable/indexing.html#ix-indexer-is-deprecated\n",
      "  \n"
     ]
    },
    {
     "data": {
      "text/plain": [
       "'âœ… Trip Verified | Cancun to Milan via Miami. We were six counting a handicap person and an infant (2 years). Our flight took off delayed of one hour from Cancun, when we finally arrived in MIA we had only about 1 hour to the connection. So then the 1st soap opera began, no one came to take my stepfather (the handicap) at the plane, after 10 min some one came and left him at a place with others, then the lady from AA said we should reschedule our flight home for the other day, after a brief discussion she called someone and he and my mother went one way and my sister, niece and brother in law in another. We used the APC (Automated Passport Control) and went to the line, or should i say lines, i went one way. then security control. We all met after SC and went to the gate, there the second soap opera began. apparently some battery had to be changed and after multiple delays, emails, and texts and about 3 hours waiting later they decided to change the airplane, so we had to change gates too. more one hour waiting. So boarding began and after everyone were cozy (as much as you can be on a old AA aircraft) all kinds of excuses began. 1st was that we were waiting the green light from Dallas'"
      ]
     },
     "execution_count": 394,
     "metadata": {},
     "output_type": "execute_result"
    }
   ],
   "source": [
    "# Index 25 has Null values of cabin data\n",
    "skytrax.ix[25].customer_review"
   ]
  },
  {
   "cell_type": "code",
   "execution_count": 395,
   "metadata": {},
   "outputs": [
    {
     "data": {
      "text/plain": [
       "airline                                            American Airlines\n",
       "overall                                                            1\n",
       "author                                    Luis Eduardo Vieira mendes\n",
       "review_date                                          28th April 2019\n",
       "customer_review    âœ… Trip Verified | Cancun to Milan via Miami....\n",
       "traveller_type                                                   NaN\n",
       "cabin                                                            NaN\n",
       "date_flown                                                       NaT\n",
       "seat_comfort                                                       0\n",
       "cabin_service                                                      0\n",
       "food_bev                                                           0\n",
       "entertainment                                                      0\n",
       "ground_service                                                     0\n",
       "value_for_money                                                    0\n",
       "recommended                                                      NaN\n",
       "Name: 25, dtype: object"
      ]
     },
     "execution_count": 395,
     "metadata": {},
     "output_type": "execute_result"
    }
   ],
   "source": [
    "skytrax.ix[25]"
   ]
  },
  {
   "cell_type": "code",
   "execution_count": 396,
   "metadata": {},
   "outputs": [
    {
     "data": {
      "text/plain": [
       "Solo Leisure      3229\n",
       "Couple Leisure    2431\n",
       "Family Leisure    2321\n",
       "Business          1676\n",
       "Name: traveller_type, dtype: int64"
      ]
     },
     "execution_count": 396,
     "metadata": {},
     "output_type": "execute_result"
    }
   ],
   "source": [
    "skytrax['traveller_type'].value_counts()"
   ]
  },
  {
   "cell_type": "code",
   "execution_count": 397,
   "metadata": {},
   "outputs": [
    {
     "data": {
      "text/plain": [
       "Economy Class      10341\n",
       "Business Class       656\n",
       "Premium Economy      549\n",
       "First Class          547\n",
       "Name: cabin, dtype: int64"
      ]
     },
     "execution_count": 397,
     "metadata": {},
     "output_type": "execute_result"
    }
   ],
   "source": [
    "skytrax['cabin'].value_counts()"
   ]
  },
  {
   "cell_type": "code",
   "execution_count": 398,
   "metadata": {},
   "outputs": [
    {
     "data": {
      "text/plain": [
       "no     9871\n",
       "yes    3170\n",
       "Name: recommended, dtype: int64"
      ]
     },
     "execution_count": 398,
     "metadata": {},
     "output_type": "execute_result"
    }
   ],
   "source": [
    "skytrax['recommended'].value_counts()"
   ]
  },
  {
   "cell_type": "code",
   "execution_count": 399,
   "metadata": {},
   "outputs": [
    {
     "data": {
      "text/plain": [
       "0    11th May 2019\n",
       "1    10th May 2019\n",
       "2    10th May 2019\n",
       "3     9th May 2019\n",
       "4     8th May 2019\n",
       "Name: review_date, dtype: object"
      ]
     },
     "execution_count": 399,
     "metadata": {},
     "output_type": "execute_result"
    }
   ],
   "source": [
    "skytrax['review_date'].head(5)"
   ]
  },
  {
   "cell_type": "code",
   "execution_count": 400,
   "metadata": {},
   "outputs": [],
   "source": [
    "# splitting review_date column to get month and year value in separate columns\n",
    "ignore, skytrax['review_month'], skytrax['review_year'] = skytrax['review_date'].str.split(' ').str"
   ]
  },
  {
   "cell_type": "code",
   "execution_count": 401,
   "metadata": {},
   "outputs": [],
   "source": [
    "look_up = {'January': 1, 'February':2, 'March':3, 'April':4, 'May':5,\n",
    "            'June':6, 'July':7, 'August':8, 'September':9, 'October':10, 'November':11, 'December':12}\n",
    "\n",
    "skytrax['review_month'] = skytrax['review_month'].apply(lambda x: look_up[x])\n"
   ]
  },
  {
   "cell_type": "code",
   "execution_count": 402,
   "metadata": {},
   "outputs": [],
   "source": [
    "# Changing datatype of review_year column\n",
    "skytrax['review_year'] = skytrax['review_year'].apply(lambda x:int(x))\n"
   ]
  },
  {
   "cell_type": "code",
   "execution_count": 403,
   "metadata": {},
   "outputs": [
    {
     "data": {
      "text/html": [
       "<div>\n",
       "<style scoped>\n",
       "    .dataframe tbody tr th:only-of-type {\n",
       "        vertical-align: middle;\n",
       "    }\n",
       "\n",
       "    .dataframe tbody tr th {\n",
       "        vertical-align: top;\n",
       "    }\n",
       "\n",
       "    .dataframe thead th {\n",
       "        text-align: right;\n",
       "    }\n",
       "</style>\n",
       "<table border=\"1\" class=\"dataframe\">\n",
       "  <thead>\n",
       "    <tr style=\"text-align: right;\">\n",
       "      <th></th>\n",
       "      <th>airline</th>\n",
       "      <th>overall</th>\n",
       "      <th>author</th>\n",
       "      <th>review_date</th>\n",
       "      <th>customer_review</th>\n",
       "      <th>traveller_type</th>\n",
       "      <th>cabin</th>\n",
       "      <th>date_flown</th>\n",
       "      <th>seat_comfort</th>\n",
       "      <th>cabin_service</th>\n",
       "      <th>food_bev</th>\n",
       "      <th>entertainment</th>\n",
       "      <th>ground_service</th>\n",
       "      <th>value_for_money</th>\n",
       "      <th>recommended</th>\n",
       "      <th>review_month</th>\n",
       "      <th>review_year</th>\n",
       "    </tr>\n",
       "  </thead>\n",
       "  <tbody>\n",
       "    <tr>\n",
       "      <th>0</th>\n",
       "      <td>American Airlines</td>\n",
       "      <td>5.0</td>\n",
       "      <td>B Merton</td>\n",
       "      <td>11th May 2019</td>\n",
       "      <td>âœ… Trip Verified | We were scheduled to fly f...</td>\n",
       "      <td>Couple Leisure</td>\n",
       "      <td>First Class</td>\n",
       "      <td>2019-05-01</td>\n",
       "      <td>5.0</td>\n",
       "      <td>5.0</td>\n",
       "      <td>5.0</td>\n",
       "      <td>4.2</td>\n",
       "      <td>3.0</td>\n",
       "      <td>3.0</td>\n",
       "      <td>no</td>\n",
       "      <td>5</td>\n",
       "      <td>2019</td>\n",
       "    </tr>\n",
       "    <tr>\n",
       "      <th>1</th>\n",
       "      <td>American Airlines</td>\n",
       "      <td>1.0</td>\n",
       "      <td>Dave Benton</td>\n",
       "      <td>10th May 2019</td>\n",
       "      <td>Not Verified | I had a flight from Dallas to S...</td>\n",
       "      <td>Family Leisure</td>\n",
       "      <td>Premium Economy</td>\n",
       "      <td>2019-05-01</td>\n",
       "      <td>1.0</td>\n",
       "      <td>2.0</td>\n",
       "      <td>2.0</td>\n",
       "      <td>2.0</td>\n",
       "      <td>1.0</td>\n",
       "      <td>1.0</td>\n",
       "      <td>no</td>\n",
       "      <td>5</td>\n",
       "      <td>2019</td>\n",
       "    </tr>\n",
       "    <tr>\n",
       "      <th>2</th>\n",
       "      <td>American Airlines</td>\n",
       "      <td>1.0</td>\n",
       "      <td>J Richard</td>\n",
       "      <td>10th May 2019</td>\n",
       "      <td>Not Verified | Pittsburgh to Tampa. Every sing...</td>\n",
       "      <td>Family Leisure</td>\n",
       "      <td>Economy Class</td>\n",
       "      <td>2019-04-01</td>\n",
       "      <td>1.0</td>\n",
       "      <td>1.0</td>\n",
       "      <td>1.0</td>\n",
       "      <td>1.0</td>\n",
       "      <td>1.0</td>\n",
       "      <td>1.0</td>\n",
       "      <td>no</td>\n",
       "      <td>5</td>\n",
       "      <td>2019</td>\n",
       "    </tr>\n",
       "    <tr>\n",
       "      <th>3</th>\n",
       "      <td>American Airlines</td>\n",
       "      <td>1.0</td>\n",
       "      <td>G Meares</td>\n",
       "      <td>9th May 2019</td>\n",
       "      <td>âœ… Trip Verified | Dallas to Atlanta. You hav...</td>\n",
       "      <td>Business</td>\n",
       "      <td>Economy Class</td>\n",
       "      <td>2019-05-01</td>\n",
       "      <td>3.0</td>\n",
       "      <td>2.0</td>\n",
       "      <td>1.0</td>\n",
       "      <td>1.0</td>\n",
       "      <td>1.0</td>\n",
       "      <td>1.0</td>\n",
       "      <td>no</td>\n",
       "      <td>5</td>\n",
       "      <td>2019</td>\n",
       "    </tr>\n",
       "    <tr>\n",
       "      <th>4</th>\n",
       "      <td>American Airlines</td>\n",
       "      <td>3.0</td>\n",
       "      <td>S Klein</td>\n",
       "      <td>8th May 2019</td>\n",
       "      <td>âœ… Trip Verified | Tampa to Vancouver via Dal...</td>\n",
       "      <td>Couple Leisure</td>\n",
       "      <td>Economy Class</td>\n",
       "      <td>2019-05-01</td>\n",
       "      <td>1.0</td>\n",
       "      <td>1.0</td>\n",
       "      <td>1.0</td>\n",
       "      <td>3.0</td>\n",
       "      <td>1.0</td>\n",
       "      <td>1.0</td>\n",
       "      <td>no</td>\n",
       "      <td>5</td>\n",
       "      <td>2019</td>\n",
       "    </tr>\n",
       "  </tbody>\n",
       "</table>\n",
       "</div>"
      ],
      "text/plain": [
       "             airline  overall       author    review_date  \\\n",
       "0  American Airlines      5.0     B Merton  11th May 2019   \n",
       "1  American Airlines      1.0  Dave Benton  10th May 2019   \n",
       "2  American Airlines      1.0    J Richard  10th May 2019   \n",
       "3  American Airlines      1.0     G Meares   9th May 2019   \n",
       "4  American Airlines      3.0      S Klein   8th May 2019   \n",
       "\n",
       "                                     customer_review  traveller_type  \\\n",
       "0  âœ… Trip Verified | We were scheduled to fly f...  Couple Leisure   \n",
       "1  Not Verified | I had a flight from Dallas to S...  Family Leisure   \n",
       "2  Not Verified | Pittsburgh to Tampa. Every sing...  Family Leisure   \n",
       "3  âœ… Trip Verified | Dallas to Atlanta. You hav...        Business   \n",
       "4  âœ… Trip Verified | Tampa to Vancouver via Dal...  Couple Leisure   \n",
       "\n",
       "             cabin date_flown  seat_comfort  cabin_service  food_bev  \\\n",
       "0      First Class 2019-05-01           5.0            5.0       5.0   \n",
       "1  Premium Economy 2019-05-01           1.0            2.0       2.0   \n",
       "2    Economy Class 2019-04-01           1.0            1.0       1.0   \n",
       "3    Economy Class 2019-05-01           3.0            2.0       1.0   \n",
       "4    Economy Class 2019-05-01           1.0            1.0       1.0   \n",
       "\n",
       "   entertainment  ground_service  value_for_money recommended  review_month  \\\n",
       "0            4.2             3.0              3.0          no             5   \n",
       "1            2.0             1.0              1.0          no             5   \n",
       "2            1.0             1.0              1.0          no             5   \n",
       "3            1.0             1.0              1.0          no             5   \n",
       "4            3.0             1.0              1.0          no             5   \n",
       "\n",
       "   review_year  \n",
       "0         2019  \n",
       "1         2019  \n",
       "2         2019  \n",
       "3         2019  \n",
       "4         2019  "
      ]
     },
     "execution_count": 403,
     "metadata": {},
     "output_type": "execute_result"
    }
   ],
   "source": [
    "skytrax.head()"
   ]
  },
  {
   "cell_type": "code",
   "execution_count": 404,
   "metadata": {},
   "outputs": [
    {
     "name": "stdout",
     "output_type": "stream",
     "text": [
      "<class 'pandas.core.frame.DataFrame'>\n",
      "RangeIndex: 13359 entries, 0 to 13358\n",
      "Data columns (total 17 columns):\n",
      "airline            13359 non-null object\n",
      "overall            13359 non-null float64\n",
      "author             13359 non-null object\n",
      "review_date        13359 non-null object\n",
      "customer_review    13359 non-null object\n",
      "traveller_type     9657 non-null object\n",
      "cabin              12093 non-null object\n",
      "date_flown         9634 non-null datetime64[ns]\n",
      "seat_comfort       13359 non-null float64\n",
      "cabin_service      13359 non-null float64\n",
      "food_bev           13359 non-null float64\n",
      "entertainment      13359 non-null float64\n",
      "ground_service     13359 non-null float64\n",
      "value_for_money    13359 non-null float64\n",
      "recommended        13041 non-null object\n",
      "review_month       13359 non-null int64\n",
      "review_year        13359 non-null int64\n",
      "dtypes: datetime64[ns](1), float64(7), int64(2), object(7)\n",
      "memory usage: 1.7+ MB\n"
     ]
    }
   ],
   "source": [
    "skytrax.info()"
   ]
  },
  {
   "cell_type": "code",
   "execution_count": 405,
   "metadata": {},
   "outputs": [],
   "source": [
    "skytrax = skytrax[['airline', 'overall', 'customer_review',\n",
    "       'traveller_type', 'cabin', 'seat_comfort',\n",
    "       'cabin_service', 'food_bev', 'entertainment', 'ground_service',\n",
    "       'value_for_money', 'recommended', 'review_month', 'review_year']]"
   ]
  },
  {
   "cell_type": "code",
   "execution_count": 406,
   "metadata": {},
   "outputs": [],
   "source": [
    "skytrax = skytrax.fillna('Null')"
   ]
  },
  {
   "cell_type": "code",
   "execution_count": 407,
   "metadata": {},
   "outputs": [
    {
     "data": {
      "text/html": [
       "<div>\n",
       "<style scoped>\n",
       "    .dataframe tbody tr th:only-of-type {\n",
       "        vertical-align: middle;\n",
       "    }\n",
       "\n",
       "    .dataframe tbody tr th {\n",
       "        vertical-align: top;\n",
       "    }\n",
       "\n",
       "    .dataframe thead th {\n",
       "        text-align: right;\n",
       "    }\n",
       "</style>\n",
       "<table border=\"1\" class=\"dataframe\">\n",
       "  <thead>\n",
       "    <tr style=\"text-align: right;\">\n",
       "      <th></th>\n",
       "      <th>Avg_Rating</th>\n",
       "    </tr>\n",
       "    <tr>\n",
       "      <th>airline</th>\n",
       "      <th></th>\n",
       "    </tr>\n",
       "  </thead>\n",
       "  <tbody>\n",
       "    <tr>\n",
       "      <th>American Airlines</th>\n",
       "      <td>2.896843</td>\n",
       "    </tr>\n",
       "    <tr>\n",
       "      <th>Delta Air Lines</th>\n",
       "      <td>4.536436</td>\n",
       "    </tr>\n",
       "    <tr>\n",
       "      <th>Frontier Airlines</th>\n",
       "      <td>2.298327</td>\n",
       "    </tr>\n",
       "    <tr>\n",
       "      <th>Jetblue Airways</th>\n",
       "      <td>4.926253</td>\n",
       "    </tr>\n",
       "    <tr>\n",
       "      <th>Southwest Airlines</th>\n",
       "      <td>5.065991</td>\n",
       "    </tr>\n",
       "    <tr>\n",
       "      <th>Spirit Airlines</th>\n",
       "      <td>2.607277</td>\n",
       "    </tr>\n",
       "    <tr>\n",
       "      <th>United Airlines</th>\n",
       "      <td>3.028279</td>\n",
       "    </tr>\n",
       "  </tbody>\n",
       "</table>\n",
       "</div>"
      ],
      "text/plain": [
       "                    Avg_Rating\n",
       "airline                       \n",
       "American Airlines     2.896843\n",
       "Delta Air Lines       4.536436\n",
       "Frontier Airlines     2.298327\n",
       "Jetblue Airways       4.926253\n",
       "Southwest Airlines    5.065991\n",
       "Spirit Airlines       2.607277\n",
       "United Airlines       3.028279"
      ]
     },
     "execution_count": 407,
     "metadata": {},
     "output_type": "execute_result"
    },
    {
     "data": {
      "image/png": "[encoded data removed]",
      "text/plain": [
       "<matplotlib.figure.Figure at 0x1a35fbc438>"
      ]
     },
     "metadata": {},
     "output_type": "display_data"
    }
   ],
   "source": [
    "sky_mean = skytrax[['airline', 'overall']].groupby('airline').mean()\n",
    "sky_mean.columns = ['Avg_Rating']\n",
    "sky_mean.sort_values('Avg_Rating', ascending=False)\n",
    "\n",
    "sky_mean.sort_values('Avg_Rating').plot(kind='barh', title='Average Ratings per Airline', figsize=(10,6), color='orange');\n",
    "plt.xlabel('Ratings')\n",
    "plt.ylabel('Airline');\n",
    "sky_mean"
   ]
  },
  {
   "cell_type": "code",
   "execution_count": 408,
   "metadata": {},
   "outputs": [
    {
     "data": {
      "image/png": "[encoded data removed]",
      "text/plain": [
       "<matplotlib.figure.Figure at 0x1a360395c0>"
      ]
     },
     "metadata": {},
     "output_type": "display_data"
    }
   ],
   "source": [
    "sns.heatmap(skytrax.corr(), annot=True, fmt='.2f');\n"
   ]
  },
  {
   "cell_type": "code",
   "execution_count": 409,
   "metadata": {},
   "outputs": [
    {
     "data": {
      "text/html": [
       "<div>\n",
       "<style scoped>\n",
       "    .dataframe tbody tr th:only-of-type {\n",
       "        vertical-align: middle;\n",
       "    }\n",
       "\n",
       "    .dataframe tbody tr th {\n",
       "        vertical-align: top;\n",
       "    }\n",
       "\n",
       "    .dataframe thead th {\n",
       "        text-align: right;\n",
       "    }\n",
       "</style>\n",
       "<table border=\"1\" class=\"dataframe\">\n",
       "  <thead>\n",
       "    <tr style=\"text-align: right;\">\n",
       "      <th></th>\n",
       "      <th>overall</th>\n",
       "      <th>seat_comfort</th>\n",
       "      <th>cabin_service</th>\n",
       "      <th>food_bev</th>\n",
       "      <th>entertainment</th>\n",
       "      <th>ground_service</th>\n",
       "      <th>value_for_money</th>\n",
       "      <th>review_month</th>\n",
       "      <th>review_year</th>\n",
       "    </tr>\n",
       "  </thead>\n",
       "  <tbody>\n",
       "    <tr>\n",
       "      <th>count</th>\n",
       "      <td>13359.000000</td>\n",
       "      <td>13359.000000</td>\n",
       "      <td>13359.000000</td>\n",
       "      <td>13359.000000</td>\n",
       "      <td>13359.000000</td>\n",
       "      <td>13359.000000</td>\n",
       "      <td>13359.000000</td>\n",
       "      <td>13359.000000</td>\n",
       "      <td>13359.000000</td>\n",
       "    </tr>\n",
       "    <tr>\n",
       "      <th>mean</th>\n",
       "      <td>3.224420</td>\n",
       "      <td>2.154421</td>\n",
       "      <td>2.378309</td>\n",
       "      <td>2.009423</td>\n",
       "      <td>2.037333</td>\n",
       "      <td>2.043731</td>\n",
       "      <td>2.063989</td>\n",
       "      <td>6.382065</td>\n",
       "      <td>2016.263942</td>\n",
       "    </tr>\n",
       "    <tr>\n",
       "      <th>std</th>\n",
       "      <td>3.227973</td>\n",
       "      <td>1.404589</td>\n",
       "      <td>1.564284</td>\n",
       "      <td>1.360926</td>\n",
       "      <td>1.420619</td>\n",
       "      <td>1.451273</td>\n",
       "      <td>1.521475</td>\n",
       "      <td>3.357431</td>\n",
       "      <td>1.830220</td>\n",
       "    </tr>\n",
       "    <tr>\n",
       "      <th>min</th>\n",
       "      <td>0.000000</td>\n",
       "      <td>0.000000</td>\n",
       "      <td>0.000000</td>\n",
       "      <td>0.000000</td>\n",
       "      <td>0.000000</td>\n",
       "      <td>0.000000</td>\n",
       "      <td>0.000000</td>\n",
       "      <td>1.000000</td>\n",
       "      <td>2010.000000</td>\n",
       "    </tr>\n",
       "    <tr>\n",
       "      <th>25%</th>\n",
       "      <td>1.000000</td>\n",
       "      <td>1.000000</td>\n",
       "      <td>1.000000</td>\n",
       "      <td>1.000000</td>\n",
       "      <td>1.000000</td>\n",
       "      <td>1.000000</td>\n",
       "      <td>1.000000</td>\n",
       "      <td>4.000000</td>\n",
       "      <td>2015.000000</td>\n",
       "    </tr>\n",
       "    <tr>\n",
       "      <th>50%</th>\n",
       "      <td>1.000000</td>\n",
       "      <td>2.000000</td>\n",
       "      <td>2.000000</td>\n",
       "      <td>1.000000</td>\n",
       "      <td>1.000000</td>\n",
       "      <td>1.000000</td>\n",
       "      <td>1.000000</td>\n",
       "      <td>6.000000</td>\n",
       "      <td>2016.000000</td>\n",
       "    </tr>\n",
       "    <tr>\n",
       "      <th>75%</th>\n",
       "      <td>5.000000</td>\n",
       "      <td>3.000000</td>\n",
       "      <td>4.000000</td>\n",
       "      <td>3.000000</td>\n",
       "      <td>3.000000</td>\n",
       "      <td>3.000000</td>\n",
       "      <td>3.000000</td>\n",
       "      <td>9.000000</td>\n",
       "      <td>2018.000000</td>\n",
       "    </tr>\n",
       "    <tr>\n",
       "      <th>max</th>\n",
       "      <td>10.000000</td>\n",
       "      <td>5.000000</td>\n",
       "      <td>5.000000</td>\n",
       "      <td>5.000000</td>\n",
       "      <td>5.000000</td>\n",
       "      <td>5.000000</td>\n",
       "      <td>5.000000</td>\n",
       "      <td>12.000000</td>\n",
       "      <td>2019.000000</td>\n",
       "    </tr>\n",
       "  </tbody>\n",
       "</table>\n",
       "</div>"
      ],
      "text/plain": [
       "            overall  seat_comfort  cabin_service      food_bev  entertainment  \\\n",
       "count  13359.000000  13359.000000   13359.000000  13359.000000   13359.000000   \n",
       "mean       3.224420      2.154421       2.378309      2.009423       2.037333   \n",
       "std        3.227973      1.404589       1.564284      1.360926       1.420619   \n",
       "min        0.000000      0.000000       0.000000      0.000000       0.000000   \n",
       "25%        1.000000      1.000000       1.000000      1.000000       1.000000   \n",
       "50%        1.000000      2.000000       2.000000      1.000000       1.000000   \n",
       "75%        5.000000      3.000000       4.000000      3.000000       3.000000   \n",
       "max       10.000000      5.000000       5.000000      5.000000       5.000000   \n",
       "\n",
       "       ground_service  value_for_money  review_month   review_year  \n",
       "count    13359.000000     13359.000000  13359.000000  13359.000000  \n",
       "mean         2.043731         2.063989      6.382065   2016.263942  \n",
       "std          1.451273         1.521475      3.357431      1.830220  \n",
       "min          0.000000         0.000000      1.000000   2010.000000  \n",
       "25%          1.000000         1.000000      4.000000   2015.000000  \n",
       "50%          1.000000         1.000000      6.000000   2016.000000  \n",
       "75%          3.000000         3.000000      9.000000   2018.000000  \n",
       "max          5.000000         5.000000     12.000000   2019.000000  "
      ]
     },
     "execution_count": 409,
     "metadata": {},
     "output_type": "execute_result"
    }
   ],
   "source": [
    "skytrax.describe()"
   ]
  },
  {
   "cell_type": "code",
   "execution_count": 410,
   "metadata": {},
   "outputs": [
    {
     "data": {
      "text/plain": [
       "Spirit Airlines       2934\n",
       "American Airlines     2867\n",
       "United Airlines       2829\n",
       "Frontier Airlines     1624\n",
       "Delta Air Lines       1547\n",
       "Southwest Airlines     913\n",
       "Jetblue Airways        645\n",
       "Name: airline, dtype: int64"
      ]
     },
     "execution_count": 410,
     "metadata": {},
     "output_type": "execute_result"
    }
   ],
   "source": [
    "skytrax.airline.value_counts()"
   ]
  },
  {
   "cell_type": "code",
   "execution_count": 411,
   "metadata": {},
   "outputs": [
    {
     "data": {
      "text/plain": [
       "array([[<matplotlib.axes._subplots.AxesSubplot object at 0x1a35fac588>,\n",
       "        <matplotlib.axes._subplots.AxesSubplot object at 0x1a35a10a20>,\n",
       "        <matplotlib.axes._subplots.AxesSubplot object at 0x1a3595ffd0>],\n",
       "       [<matplotlib.axes._subplots.AxesSubplot object at 0x1a358dcf28>,\n",
       "        <matplotlib.axes._subplots.AxesSubplot object at 0x1a3576d1d0>,\n",
       "        <matplotlib.axes._subplots.AxesSubplot object at 0x1a2f7ab9b0>],\n",
       "       [<matplotlib.axes._subplots.AxesSubplot object at 0x1a2f0e8e48>,\n",
       "        <matplotlib.axes._subplots.AxesSubplot object at 0x1a2e189e48>,\n",
       "        <matplotlib.axes._subplots.AxesSubplot object at 0x1a35b9a898>]],\n",
       "      dtype=object)"
      ]
     },
     "execution_count": 411,
     "metadata": {},
     "output_type": "execute_result"
    },
    {
     "data": {
      "image/png": "[encoded data removed]",
      "text/plain": [
       "<matplotlib.figure.Figure at 0x1a35fadb38>"
      ]
     },
     "metadata": {},
     "output_type": "display_data"
    }
   ],
   "source": [
    "skytrax[skytrax['airline']=='United Airlines'].hist()"
   ]
  },
  {
   "cell_type": "code",
   "execution_count": 412,
   "metadata": {},
   "outputs": [
    {
     "name": "stdout",
     "output_type": "stream",
     "text": [
      "<class 'pandas.core.frame.DataFrame'>\n",
      "RangeIndex: 13359 entries, 0 to 13358\n",
      "Data columns (total 14 columns):\n",
      "airline            13359 non-null object\n",
      "overall            13359 non-null float64\n",
      "customer_review    13359 non-null object\n",
      "traveller_type     13359 non-null object\n",
      "cabin              13359 non-null object\n",
      "seat_comfort       13359 non-null float64\n",
      "cabin_service      13359 non-null float64\n",
      "food_bev           13359 non-null float64\n",
      "entertainment      13359 non-null float64\n",
      "ground_service     13359 non-null float64\n",
      "value_for_money    13359 non-null float64\n",
      "recommended        13359 non-null object\n",
      "review_month       13359 non-null int64\n",
      "review_year        13359 non-null int64\n",
      "dtypes: float64(7), int64(2), object(5)\n",
      "memory usage: 1.4+ MB\n"
     ]
    }
   ],
   "source": [
    "skytrax.info()"
   ]
  },
  {
   "cell_type": "code",
   "execution_count": null,
   "metadata": {},
   "outputs": [],
   "source": []
  },
  {
   "cell_type": "code",
   "execution_count": null,
   "metadata": {},
   "outputs": [],
   "source": []
  },
  {
   "cell_type": "code",
   "execution_count": null,
   "metadata": {},
   "outputs": [],
   "source": []
  },
  {
   "cell_type": "code",
   "execution_count": 413,
   "metadata": {},
   "outputs": [],
   "source": [
    "skytrax_modified = pd.get_dummies(skytrax.drop(['customer_review', 'airline'], axis=1))"
   ]
  },
  {
   "cell_type": "code",
   "execution_count": 414,
   "metadata": {},
   "outputs": [
    {
     "name": "stdout",
     "output_type": "stream",
     "text": [
      "<class 'pandas.core.frame.DataFrame'>\n",
      "RangeIndex: 13359 entries, 0 to 13358\n",
      "Data columns (total 22 columns):\n",
      "overall                          13359 non-null float64\n",
      "seat_comfort                     13359 non-null float64\n",
      "cabin_service                    13359 non-null float64\n",
      "food_bev                         13359 non-null float64\n",
      "entertainment                    13359 non-null float64\n",
      "ground_service                   13359 non-null float64\n",
      "value_for_money                  13359 non-null float64\n",
      "review_month                     13359 non-null int64\n",
      "review_year                      13359 non-null int64\n",
      "traveller_type_Business          13359 non-null uint8\n",
      "traveller_type_Couple Leisure    13359 non-null uint8\n",
      "traveller_type_Family Leisure    13359 non-null uint8\n",
      "traveller_type_Null              13359 non-null uint8\n",
      "traveller_type_Solo Leisure      13359 non-null uint8\n",
      "cabin_Business Class             13359 non-null uint8\n",
      "cabin_Economy Class              13359 non-null uint8\n",
      "cabin_First Class                13359 non-null uint8\n",
      "cabin_Null                       13359 non-null uint8\n",
      "cabin_Premium Economy            13359 non-null uint8\n",
      "recommended_Null                 13359 non-null uint8\n",
      "recommended_no                   13359 non-null uint8\n",
      "recommended_yes                  13359 non-null uint8\n",
      "dtypes: float64(7), int64(2), uint8(13)\n",
      "memory usage: 1.1 MB\n"
     ]
    }
   ],
   "source": [
    "skytrax_modified.info()"
   ]
  },
  {
   "cell_type": "markdown",
   "metadata": {},
   "source": [
    "# Let's Predict Recommended column value based on other columns"
   ]
  },
  {
   "cell_type": "code",
   "execution_count": 415,
   "metadata": {},
   "outputs": [],
   "source": [
    "df_train = skytrax_modified[skytrax_modified['recommended_Null'] == 0]\n",
    "df_test = skytrax_modified[skytrax_modified['recommended_Null'] == 1]"
   ]
  },
  {
   "cell_type": "code",
   "execution_count": 416,
   "metadata": {},
   "outputs": [
    {
     "data": {
      "text/html": [
       "<div>\n",
       "<style scoped>\n",
       "    .dataframe tbody tr th:only-of-type {\n",
       "        vertical-align: middle;\n",
       "    }\n",
       "\n",
       "    .dataframe tbody tr th {\n",
       "        vertical-align: top;\n",
       "    }\n",
       "\n",
       "    .dataframe thead th {\n",
       "        text-align: right;\n",
       "    }\n",
       "</style>\n",
       "<table border=\"1\" class=\"dataframe\">\n",
       "  <thead>\n",
       "    <tr style=\"text-align: right;\">\n",
       "      <th></th>\n",
       "      <th>overall</th>\n",
       "    </tr>\n",
       "  </thead>\n",
       "  <tbody>\n",
       "    <tr>\n",
       "      <th>overall</th>\n",
       "      <td>1.000000</td>\n",
       "    </tr>\n",
       "    <tr>\n",
       "      <th>seat_comfort</th>\n",
       "      <td>0.764898</td>\n",
       "    </tr>\n",
       "    <tr>\n",
       "      <th>cabin_service</th>\n",
       "      <td>0.773906</td>\n",
       "    </tr>\n",
       "    <tr>\n",
       "      <th>food_bev</th>\n",
       "      <td>0.796085</td>\n",
       "    </tr>\n",
       "    <tr>\n",
       "      <th>entertainment</th>\n",
       "      <td>0.766282</td>\n",
       "    </tr>\n",
       "    <tr>\n",
       "      <th>ground_service</th>\n",
       "      <td>0.865788</td>\n",
       "    </tr>\n",
       "    <tr>\n",
       "      <th>value_for_money</th>\n",
       "      <td>0.902727</td>\n",
       "    </tr>\n",
       "    <tr>\n",
       "      <th>review_month</th>\n",
       "      <td>0.000996</td>\n",
       "    </tr>\n",
       "    <tr>\n",
       "      <th>review_year</th>\n",
       "      <td>-0.219770</td>\n",
       "    </tr>\n",
       "    <tr>\n",
       "      <th>traveller_type_Business</th>\n",
       "      <td>-0.062490</td>\n",
       "    </tr>\n",
       "    <tr>\n",
       "      <th>traveller_type_Couple Leisure</th>\n",
       "      <td>-0.062688</td>\n",
       "    </tr>\n",
       "    <tr>\n",
       "      <th>traveller_type_Family Leisure</th>\n",
       "      <td>-0.042068</td>\n",
       "    </tr>\n",
       "    <tr>\n",
       "      <th>traveller_type_Null</th>\n",
       "      <td>0.155614</td>\n",
       "    </tr>\n",
       "    <tr>\n",
       "      <th>traveller_type_Solo Leisure</th>\n",
       "      <td>-0.015748</td>\n",
       "    </tr>\n",
       "    <tr>\n",
       "      <th>cabin_Business Class</th>\n",
       "      <td>0.145682</td>\n",
       "    </tr>\n",
       "    <tr>\n",
       "      <th>cabin_Economy Class</th>\n",
       "      <td>-0.179318</td>\n",
       "    </tr>\n",
       "    <tr>\n",
       "      <th>cabin_First Class</th>\n",
       "      <td>0.107252</td>\n",
       "    </tr>\n",
       "    <tr>\n",
       "      <th>cabin_Null</th>\n",
       "      <td>0.047461</td>\n",
       "    </tr>\n",
       "    <tr>\n",
       "      <th>cabin_Premium Economy</th>\n",
       "      <td>0.034822</td>\n",
       "    </tr>\n",
       "    <tr>\n",
       "      <th>recommended_Null</th>\n",
       "      <td>NaN</td>\n",
       "    </tr>\n",
       "    <tr>\n",
       "      <th>recommended_no</th>\n",
       "      <td>-0.918131</td>\n",
       "    </tr>\n",
       "    <tr>\n",
       "      <th>recommended_yes</th>\n",
       "      <td>0.918131</td>\n",
       "    </tr>\n",
       "  </tbody>\n",
       "</table>\n",
       "</div>"
      ],
      "text/plain": [
       "                                overall\n",
       "overall                        1.000000\n",
       "seat_comfort                   0.764898\n",
       "cabin_service                  0.773906\n",
       "food_bev                       0.796085\n",
       "entertainment                  0.766282\n",
       "ground_service                 0.865788\n",
       "value_for_money                0.902727\n",
       "review_month                   0.000996\n",
       "review_year                   -0.219770\n",
       "traveller_type_Business       -0.062490\n",
       "traveller_type_Couple Leisure -0.062688\n",
       "traveller_type_Family Leisure -0.042068\n",
       "traveller_type_Null            0.155614\n",
       "traveller_type_Solo Leisure   -0.015748\n",
       "cabin_Business Class           0.145682\n",
       "cabin_Economy Class           -0.179318\n",
       "cabin_First Class              0.107252\n",
       "cabin_Null                     0.047461\n",
       "cabin_Premium Economy          0.034822\n",
       "recommended_Null                    NaN\n",
       "recommended_no                -0.918131\n",
       "recommended_yes                0.918131"
      ]
     },
     "execution_count": 416,
     "metadata": {},
     "output_type": "execute_result"
    }
   ],
   "source": [
    "df_train.corr().head(1).transpose()"
   ]
  },
  {
   "cell_type": "code",
   "execution_count": 417,
   "metadata": {},
   "outputs": [],
   "source": [
    "X = df_train.drop(['recommended_Null', 'recommended_no', 'cabin_Null', 'traveller_type_Null', 'recommended_yes'], axis=1)\n",
    "y = df_train['recommended_yes']\n",
    "from sklearn.model_selection import train_test_split\n",
    "X_train, X_test, y_train, y_test = train_test_split(X, y, test_size=0.2, random_state=101)\n",
    "\n"
   ]
  },
  {
   "cell_type": "code",
   "execution_count": 418,
   "metadata": {},
   "outputs": [
    {
     "name": "stdout",
     "output_type": "stream",
     "text": [
      "             precision    recall  f1-score   support\n",
      "\n",
      "          0       0.98      0.98      0.98      1962\n",
      "          1       0.95      0.93      0.94       647\n",
      "\n",
      "avg / total       0.97      0.97      0.97      2609\n",
      "\n",
      "[[1929   33]\n",
      " [  43  604]]\n"
     ]
    }
   ],
   "source": [
    "from sklearn.linear_model import LogisticRegression\n",
    "logmodel = LogisticRegression()\n",
    "logmodel.fit(X_train,y_train)\n",
    "predictions = logmodel.predict(X_test)\n",
    "from sklearn.metrics import classification_report\n",
    "print(classification_report(y_test,predictions))\n",
    "print(confusion_matrix(y_test,predictions))"
   ]
  },
  {
   "cell_type": "code",
   "execution_count": 419,
   "metadata": {},
   "outputs": [
    {
     "name": "stdout",
     "output_type": "stream",
     "text": [
      "             precision    recall  f1-score   support\n",
      "\n",
      "          0       0.98      0.98      0.98      1962\n",
      "          1       0.95      0.93      0.94       647\n",
      "\n",
      "avg / total       0.97      0.97      0.97      2609\n",
      "\n",
      "[[1932   30]\n",
      " [  46  601]]\n"
     ]
    }
   ],
   "source": [
    "from sklearn.ensemble import RandomForestClassifier\n",
    "from sklearn.metrics import classification_report,confusion_matrix\n",
    "\n",
    "rfc = RandomForestClassifier(n_estimators=300)\n",
    "rfc.fit(X_train,y_train)\n",
    "predictions = rfc.predict(X_test)\n",
    "\n",
    "print(classification_report(y_test,predictions))\n",
    "print(confusion_matrix(y_test,predictions))\n",
    "\n"
   ]
  },
  {
   "cell_type": "code",
   "execution_count": 420,
   "metadata": {},
   "outputs": [
    {
     "data": {
      "text/plain": [
       "array([0, 0, 0, 0, 0, 0, 0, 0, 0, 0, 0, 0, 0, 0, 0, 0, 0, 0, 0, 0, 0, 0,\n",
       "       0, 0, 0, 0, 0, 0, 0, 0, 0, 0, 0, 0, 0, 0, 0, 0, 0, 0, 0, 0, 0, 0,\n",
       "       0, 0, 0, 0, 0, 0, 0, 0, 0, 0, 0, 0, 0, 0, 0, 0, 0, 0, 0, 0, 0, 0,\n",
       "       0, 0, 0, 0, 0, 0, 0, 0, 0, 0, 0, 0, 0, 0, 0, 0, 0, 0, 0, 0, 0, 0,\n",
       "       0, 0, 0, 0, 0, 0, 0, 0, 0, 0, 0, 0, 0, 0, 0, 0, 0, 0, 0, 0, 0, 0,\n",
       "       0, 0, 0, 0, 0, 0, 0, 0, 0, 0, 0, 0, 0, 0, 0, 0, 0, 0, 0, 0, 0, 0,\n",
       "       0, 0, 0, 0, 0, 0, 0, 0, 0, 0, 0, 0, 0, 0, 0, 0, 0, 0, 0, 0, 0, 0,\n",
       "       0, 0, 0, 0, 0, 0, 0, 0, 0, 0, 0, 0, 0, 0, 0, 0, 0, 0, 0, 0, 0, 0,\n",
       "       0, 0, 0, 0, 0, 0, 0, 0, 0, 0, 0, 0, 0, 0, 0, 0, 0, 0, 0, 0, 0, 0,\n",
       "       0, 0, 0, 0, 0, 0, 0, 0, 0, 0, 0, 0, 0, 0, 0, 0, 0, 0, 0, 0, 0, 0,\n",
       "       0, 0, 0, 0, 0, 0, 0, 0, 0, 0, 0, 0, 0, 0, 0, 0, 0, 0, 0, 0, 0, 0,\n",
       "       0, 0, 0, 0, 0, 0, 0, 0, 0, 0, 0, 0, 0, 0, 0, 0, 0, 0, 0, 0, 0, 0,\n",
       "       0, 0, 0, 0, 0, 0, 0, 0, 0, 0, 0, 0, 0, 0, 0, 0, 0, 0, 0, 0, 0, 0,\n",
       "       0, 0, 0, 0, 0, 0, 0, 0, 0, 0, 0, 0, 0, 0, 0, 0, 0, 0, 0, 0, 0, 0,\n",
       "       0, 0, 0, 0, 0, 0, 0, 0, 0, 0], dtype=uint8)"
      ]
     },
     "execution_count": 420,
     "metadata": {},
     "output_type": "execute_result"
    }
   ],
   "source": [
    "X_prod = df_test.drop(['recommended_Null', 'recommended_no', 'cabin_Null', 'traveller_type_Null', 'recommended_yes'], axis=1)\n",
    "recommended_category = rfc.predict(X_prod)\n",
    "\n",
    "recommended_category\n"
   ]
  },
  {
   "cell_type": "markdown",
   "metadata": {},
   "source": [
    "### As all the null values of recommended column got prediction as 0, no need to make any changes to final column. Only recommended_yes column is enough"
   ]
  },
  {
   "cell_type": "code",
   "execution_count": 421,
   "metadata": {},
   "outputs": [],
   "source": [
    "skytrax_modified = skytrax_modified.drop(['recommended_Null', 'recommended_no', 'cabin_Null', 'traveller_type_Null'], axis=1)\n"
   ]
  },
  {
   "cell_type": "code",
   "execution_count": 422,
   "metadata": {},
   "outputs": [
    {
     "data": {
      "text/html": [
       "<div>\n",
       "<style scoped>\n",
       "    .dataframe tbody tr th:only-of-type {\n",
       "        vertical-align: middle;\n",
       "    }\n",
       "\n",
       "    .dataframe tbody tr th {\n",
       "        vertical-align: top;\n",
       "    }\n",
       "\n",
       "    .dataframe thead th {\n",
       "        text-align: right;\n",
       "    }\n",
       "</style>\n",
       "<table border=\"1\" class=\"dataframe\">\n",
       "  <thead>\n",
       "    <tr style=\"text-align: right;\">\n",
       "      <th></th>\n",
       "      <th>overall</th>\n",
       "      <th>seat_comfort</th>\n",
       "      <th>cabin_service</th>\n",
       "      <th>food_bev</th>\n",
       "      <th>entertainment</th>\n",
       "      <th>ground_service</th>\n",
       "      <th>value_for_money</th>\n",
       "      <th>review_month</th>\n",
       "      <th>review_year</th>\n",
       "      <th>traveller_type_Business</th>\n",
       "      <th>traveller_type_Couple Leisure</th>\n",
       "      <th>traveller_type_Family Leisure</th>\n",
       "      <th>traveller_type_Solo Leisure</th>\n",
       "      <th>cabin_Business Class</th>\n",
       "      <th>cabin_Economy Class</th>\n",
       "      <th>cabin_First Class</th>\n",
       "      <th>cabin_Premium Economy</th>\n",
       "      <th>recommended_yes</th>\n",
       "    </tr>\n",
       "  </thead>\n",
       "  <tbody>\n",
       "    <tr>\n",
       "      <th>0</th>\n",
       "      <td>5.0</td>\n",
       "      <td>5.0</td>\n",
       "      <td>5.0</td>\n",
       "      <td>5.0</td>\n",
       "      <td>4.2</td>\n",
       "      <td>3.0</td>\n",
       "      <td>3.0</td>\n",
       "      <td>5</td>\n",
       "      <td>2019</td>\n",
       "      <td>0</td>\n",
       "      <td>1</td>\n",
       "      <td>0</td>\n",
       "      <td>0</td>\n",
       "      <td>0</td>\n",
       "      <td>0</td>\n",
       "      <td>1</td>\n",
       "      <td>0</td>\n",
       "      <td>0</td>\n",
       "    </tr>\n",
       "    <tr>\n",
       "      <th>1</th>\n",
       "      <td>1.0</td>\n",
       "      <td>1.0</td>\n",
       "      <td>2.0</td>\n",
       "      <td>2.0</td>\n",
       "      <td>2.0</td>\n",
       "      <td>1.0</td>\n",
       "      <td>1.0</td>\n",
       "      <td>5</td>\n",
       "      <td>2019</td>\n",
       "      <td>0</td>\n",
       "      <td>0</td>\n",
       "      <td>1</td>\n",
       "      <td>0</td>\n",
       "      <td>0</td>\n",
       "      <td>0</td>\n",
       "      <td>0</td>\n",
       "      <td>1</td>\n",
       "      <td>0</td>\n",
       "    </tr>\n",
       "    <tr>\n",
       "      <th>2</th>\n",
       "      <td>1.0</td>\n",
       "      <td>1.0</td>\n",
       "      <td>1.0</td>\n",
       "      <td>1.0</td>\n",
       "      <td>1.0</td>\n",
       "      <td>1.0</td>\n",
       "      <td>1.0</td>\n",
       "      <td>5</td>\n",
       "      <td>2019</td>\n",
       "      <td>0</td>\n",
       "      <td>0</td>\n",
       "      <td>1</td>\n",
       "      <td>0</td>\n",
       "      <td>0</td>\n",
       "      <td>1</td>\n",
       "      <td>0</td>\n",
       "      <td>0</td>\n",
       "      <td>0</td>\n",
       "    </tr>\n",
       "    <tr>\n",
       "      <th>3</th>\n",
       "      <td>1.0</td>\n",
       "      <td>3.0</td>\n",
       "      <td>2.0</td>\n",
       "      <td>1.0</td>\n",
       "      <td>1.0</td>\n",
       "      <td>1.0</td>\n",
       "      <td>1.0</td>\n",
       "      <td>5</td>\n",
       "      <td>2019</td>\n",
       "      <td>1</td>\n",
       "      <td>0</td>\n",
       "      <td>0</td>\n",
       "      <td>0</td>\n",
       "      <td>0</td>\n",
       "      <td>1</td>\n",
       "      <td>0</td>\n",
       "      <td>0</td>\n",
       "      <td>0</td>\n",
       "    </tr>\n",
       "    <tr>\n",
       "      <th>4</th>\n",
       "      <td>3.0</td>\n",
       "      <td>1.0</td>\n",
       "      <td>1.0</td>\n",
       "      <td>1.0</td>\n",
       "      <td>3.0</td>\n",
       "      <td>1.0</td>\n",
       "      <td>1.0</td>\n",
       "      <td>5</td>\n",
       "      <td>2019</td>\n",
       "      <td>0</td>\n",
       "      <td>1</td>\n",
       "      <td>0</td>\n",
       "      <td>0</td>\n",
       "      <td>0</td>\n",
       "      <td>1</td>\n",
       "      <td>0</td>\n",
       "      <td>0</td>\n",
       "      <td>0</td>\n",
       "    </tr>\n",
       "  </tbody>\n",
       "</table>\n",
       "</div>"
      ],
      "text/plain": [
       "   overall  seat_comfort  cabin_service  food_bev  entertainment  \\\n",
       "0      5.0           5.0            5.0       5.0            4.2   \n",
       "1      1.0           1.0            2.0       2.0            2.0   \n",
       "2      1.0           1.0            1.0       1.0            1.0   \n",
       "3      1.0           3.0            2.0       1.0            1.0   \n",
       "4      3.0           1.0            1.0       1.0            3.0   \n",
       "\n",
       "   ground_service  value_for_money  review_month  review_year  \\\n",
       "0             3.0              3.0             5         2019   \n",
       "1             1.0              1.0             5         2019   \n",
       "2             1.0              1.0             5         2019   \n",
       "3             1.0              1.0             5         2019   \n",
       "4             1.0              1.0             5         2019   \n",
       "\n",
       "   traveller_type_Business  traveller_type_Couple Leisure  \\\n",
       "0                        0                              1   \n",
       "1                        0                              0   \n",
       "2                        0                              0   \n",
       "3                        1                              0   \n",
       "4                        0                              1   \n",
       "\n",
       "   traveller_type_Family Leisure  traveller_type_Solo Leisure  \\\n",
       "0                              0                            0   \n",
       "1                              1                            0   \n",
       "2                              1                            0   \n",
       "3                              0                            0   \n",
       "4                              0                            0   \n",
       "\n",
       "   cabin_Business Class  cabin_Economy Class  cabin_First Class  \\\n",
       "0                     0                    0                  1   \n",
       "1                     0                    0                  0   \n",
       "2                     0                    1                  0   \n",
       "3                     0                    1                  0   \n",
       "4                     0                    1                  0   \n",
       "\n",
       "   cabin_Premium Economy  recommended_yes  \n",
       "0                      0                0  \n",
       "1                      1                0  \n",
       "2                      0                0  \n",
       "3                      0                0  \n",
       "4                      0                0  "
      ]
     },
     "execution_count": 422,
     "metadata": {},
     "output_type": "execute_result"
    }
   ],
   "source": [
    "skytrax_modified.head()"
   ]
  },
  {
   "cell_type": "code",
   "execution_count": 423,
   "metadata": {},
   "outputs": [
    {
     "name": "stdout",
     "output_type": "stream",
     "text": [
      "<class 'pandas.core.frame.DataFrame'>\n",
      "RangeIndex: 13359 entries, 0 to 13358\n",
      "Data columns (total 14 columns):\n",
      "airline            13359 non-null object\n",
      "overall            13359 non-null float64\n",
      "customer_review    13359 non-null object\n",
      "traveller_type     13359 non-null object\n",
      "cabin              13359 non-null object\n",
      "seat_comfort       13359 non-null float64\n",
      "cabin_service      13359 non-null float64\n",
      "food_bev           13359 non-null float64\n",
      "entertainment      13359 non-null float64\n",
      "ground_service     13359 non-null float64\n",
      "value_for_money    13359 non-null float64\n",
      "recommended        13359 non-null object\n",
      "review_month       13359 non-null int64\n",
      "review_year        13359 non-null int64\n",
      "dtypes: float64(7), int64(2), object(5)\n",
      "memory usage: 1.4+ MB\n"
     ]
    }
   ],
   "source": [
    "skytrax.info()"
   ]
  },
  {
   "cell_type": "code",
   "execution_count": 430,
   "metadata": {},
   "outputs": [],
   "source": [
    "\n",
    "df_skytrax = pd.get_dummies(skytrax.drop(['customer_review', 'traveller_type', 'cabin', 'airline'], axis=1))\n",
    "df_skytrax[['airline', 'customer_review', 'traveller_type', 'cabin']] = skytrax[['airline', 'customer_review', 'traveller_type', 'cabin']]\n",
    "df_skytrax = df_skytrax.drop(['recommended_Null', 'recommended_no', ], axis=1)\n",
    "\n"
   ]
  },
  {
   "cell_type": "code",
   "execution_count": 431,
   "metadata": {},
   "outputs": [
    {
     "data": {
      "text/html": [
       "<div>\n",
       "<style scoped>\n",
       "    .dataframe tbody tr th:only-of-type {\n",
       "        vertical-align: middle;\n",
       "    }\n",
       "\n",
       "    .dataframe tbody tr th {\n",
       "        vertical-align: top;\n",
       "    }\n",
       "\n",
       "    .dataframe thead th {\n",
       "        text-align: right;\n",
       "    }\n",
       "</style>\n",
       "<table border=\"1\" class=\"dataframe\">\n",
       "  <thead>\n",
       "    <tr style=\"text-align: right;\">\n",
       "      <th></th>\n",
       "      <th>overall</th>\n",
       "      <th>seat_comfort</th>\n",
       "      <th>cabin_service</th>\n",
       "      <th>food_bev</th>\n",
       "      <th>entertainment</th>\n",
       "      <th>ground_service</th>\n",
       "      <th>value_for_money</th>\n",
       "      <th>review_month</th>\n",
       "      <th>review_year</th>\n",
       "      <th>recommended_yes</th>\n",
       "      <th>airline</th>\n",
       "      <th>customer_review</th>\n",
       "      <th>traveller_type</th>\n",
       "      <th>cabin</th>\n",
       "    </tr>\n",
       "  </thead>\n",
       "  <tbody>\n",
       "    <tr>\n",
       "      <th>0</th>\n",
       "      <td>5.0</td>\n",
       "      <td>5.0</td>\n",
       "      <td>5.0</td>\n",
       "      <td>5.0</td>\n",
       "      <td>4.2</td>\n",
       "      <td>3.0</td>\n",
       "      <td>3.0</td>\n",
       "      <td>5</td>\n",
       "      <td>2019</td>\n",
       "      <td>0</td>\n",
       "      <td>American Airlines</td>\n",
       "      <td>âœ… Trip Verified | We were scheduled to fly f...</td>\n",
       "      <td>Couple Leisure</td>\n",
       "      <td>First Class</td>\n",
       "    </tr>\n",
       "    <tr>\n",
       "      <th>1</th>\n",
       "      <td>1.0</td>\n",
       "      <td>1.0</td>\n",
       "      <td>2.0</td>\n",
       "      <td>2.0</td>\n",
       "      <td>2.0</td>\n",
       "      <td>1.0</td>\n",
       "      <td>1.0</td>\n",
       "      <td>5</td>\n",
       "      <td>2019</td>\n",
       "      <td>0</td>\n",
       "      <td>American Airlines</td>\n",
       "      <td>Not Verified | I had a flight from Dallas to S...</td>\n",
       "      <td>Family Leisure</td>\n",
       "      <td>Premium Economy</td>\n",
       "    </tr>\n",
       "    <tr>\n",
       "      <th>2</th>\n",
       "      <td>1.0</td>\n",
       "      <td>1.0</td>\n",
       "      <td>1.0</td>\n",
       "      <td>1.0</td>\n",
       "      <td>1.0</td>\n",
       "      <td>1.0</td>\n",
       "      <td>1.0</td>\n",
       "      <td>5</td>\n",
       "      <td>2019</td>\n",
       "      <td>0</td>\n",
       "      <td>American Airlines</td>\n",
       "      <td>Not Verified | Pittsburgh to Tampa. Every sing...</td>\n",
       "      <td>Family Leisure</td>\n",
       "      <td>Economy Class</td>\n",
       "    </tr>\n",
       "    <tr>\n",
       "      <th>3</th>\n",
       "      <td>1.0</td>\n",
       "      <td>3.0</td>\n",
       "      <td>2.0</td>\n",
       "      <td>1.0</td>\n",
       "      <td>1.0</td>\n",
       "      <td>1.0</td>\n",
       "      <td>1.0</td>\n",
       "      <td>5</td>\n",
       "      <td>2019</td>\n",
       "      <td>0</td>\n",
       "      <td>American Airlines</td>\n",
       "      <td>âœ… Trip Verified | Dallas to Atlanta. You hav...</td>\n",
       "      <td>Business</td>\n",
       "      <td>Economy Class</td>\n",
       "    </tr>\n",
       "    <tr>\n",
       "      <th>4</th>\n",
       "      <td>3.0</td>\n",
       "      <td>1.0</td>\n",
       "      <td>1.0</td>\n",
       "      <td>1.0</td>\n",
       "      <td>3.0</td>\n",
       "      <td>1.0</td>\n",
       "      <td>1.0</td>\n",
       "      <td>5</td>\n",
       "      <td>2019</td>\n",
       "      <td>0</td>\n",
       "      <td>American Airlines</td>\n",
       "      <td>âœ… Trip Verified | Tampa to Vancouver via Dal...</td>\n",
       "      <td>Couple Leisure</td>\n",
       "      <td>Economy Class</td>\n",
       "    </tr>\n",
       "  </tbody>\n",
       "</table>\n",
       "</div>"
      ],
      "text/plain": [
       "   overall  seat_comfort  cabin_service  food_bev  entertainment  \\\n",
       "0      5.0           5.0            5.0       5.0            4.2   \n",
       "1      1.0           1.0            2.0       2.0            2.0   \n",
       "2      1.0           1.0            1.0       1.0            1.0   \n",
       "3      1.0           3.0            2.0       1.0            1.0   \n",
       "4      3.0           1.0            1.0       1.0            3.0   \n",
       "\n",
       "   ground_service  value_for_money  review_month  review_year  \\\n",
       "0             3.0              3.0             5         2019   \n",
       "1             1.0              1.0             5         2019   \n",
       "2             1.0              1.0             5         2019   \n",
       "3             1.0              1.0             5         2019   \n",
       "4             1.0              1.0             5         2019   \n",
       "\n",
       "   recommended_yes            airline  \\\n",
       "0                0  American Airlines   \n",
       "1                0  American Airlines   \n",
       "2                0  American Airlines   \n",
       "3                0  American Airlines   \n",
       "4                0  American Airlines   \n",
       "\n",
       "                                     customer_review  traveller_type  \\\n",
       "0  âœ… Trip Verified | We were scheduled to fly f...  Couple Leisure   \n",
       "1  Not Verified | I had a flight from Dallas to S...  Family Leisure   \n",
       "2  Not Verified | Pittsburgh to Tampa. Every sing...  Family Leisure   \n",
       "3  âœ… Trip Verified | Dallas to Atlanta. You hav...        Business   \n",
       "4  âœ… Trip Verified | Tampa to Vancouver via Dal...  Couple Leisure   \n",
       "\n",
       "             cabin  \n",
       "0      First Class  \n",
       "1  Premium Economy  \n",
       "2    Economy Class  \n",
       "3    Economy Class  \n",
       "4    Economy Class  "
      ]
     },
     "execution_count": 431,
     "metadata": {},
     "output_type": "execute_result"
    }
   ],
   "source": [
    "df_skytrax.head()"
   ]
  },
  {
   "cell_type": "code",
   "execution_count": null,
   "metadata": {},
   "outputs": [],
   "source": []
  },
  {
   "cell_type": "markdown",
   "metadata": {},
   "source": [
    "# End Here"
   ]
  },
  {
   "cell_type": "code",
   "execution_count": null,
   "metadata": {},
   "outputs": [],
   "source": []
  },
  {
   "cell_type": "code",
   "execution_count": null,
   "metadata": {},
   "outputs": [],
   "source": [
    "# Getting data in SQL form\n",
    "import sqlite3\n",
    "\n",
    "# connect to the database\n",
    "conn = sqlite3.connect('population_data.db')\n",
    "\n",
    "# run a query\n",
    "pd.read_sql('SELECT * FROM population_data', conn)"
   ]
  },
  {
   "cell_type": "code",
   "execution_count": 25,
   "metadata": {},
   "outputs": [],
   "source": [
    "# Fixing overall rating values\n",
    "\n",
    "#working_df.to_sql('data', connection,index=False, if_exists='append')\n",
    "\n",
    "\n",
    "skytrax.to_sql('skytrax_data', connection, index=False, if_exists='replace')"
   ]
  },
  {
   "cell_type": "code",
   "execution_count": 28,
   "metadata": {},
   "outputs": [
    {
     "data": {
      "text/html": [
       "<div>\n",
       "<style scoped>\n",
       "    .dataframe tbody tr th:only-of-type {\n",
       "        vertical-align: middle;\n",
       "    }\n",
       "\n",
       "    .dataframe tbody tr th {\n",
       "        vertical-align: top;\n",
       "    }\n",
       "\n",
       "    .dataframe thead th {\n",
       "        text-align: right;\n",
       "    }\n",
       "</style>\n",
       "<table border=\"1\" class=\"dataframe\">\n",
       "  <thead>\n",
       "    <tr style=\"text-align: right;\">\n",
       "      <th></th>\n",
       "      <th>count(1)</th>\n",
       "    </tr>\n",
       "  </thead>\n",
       "  <tbody>\n",
       "    <tr>\n",
       "      <th>0</th>\n",
       "      <td>336</td>\n",
       "    </tr>\n",
       "  </tbody>\n",
       "</table>\n",
       "</div>"
      ],
      "text/plain": [
       "   count(1)\n",
       "0       336"
      ]
     },
     "execution_count": 28,
     "metadata": {},
     "output_type": "execute_result"
    }
   ],
   "source": [
    "pd.read_sql(\"SELECT count(1) FROM skytrax_data where overall == 5\", sql_engine)"
   ]
  },
  {
   "cell_type": "code",
   "execution_count": null,
   "metadata": {},
   "outputs": [],
   "source": []
  },
  {
   "cell_type": "code",
   "execution_count": null,
   "metadata": {},
   "outputs": [],
   "source": []
  },
  {
   "cell_type": "code",
   "execution_count": null,
   "metadata": {},
   "outputs": [],
   "source": []
  }
 ],
 "metadata": {
  "kernelspec": {
   "display_name": "Python 3",
   "language": "python",
   "name": "python3"
  },
  "language_info": {
   "codemirror_mode": {
    "name": "ipython",
    "version": 3
   },
   "file_extension": ".py",
   "mimetype": "text/x-python",
   "name": "python",
   "nbconvert_exporter": "python",
   "pygments_lexer": "ipython3",
   "version": "3.5.4"
  }
 },
 "nbformat": 4,
 "nbformat_minor": 2
}
