{
 "cells": [
  {
   "cell_type": "code",
   "execution_count": 1,
   "metadata": {},
   "outputs": [],
   "source": [
    "import pandas as pd\n",
    "import numpy as np\n",
    "import matplotlib.pyplot as plt\n",
    "import seaborn as sns\n",
    "%matplotlib inline\n"
   ]
  },
  {
   "cell_type": "code",
   "execution_count": 3,
   "metadata": {},
   "outputs": [],
   "source": [
    "skytrax = pd.read_excel(\"skytrax.xlsx\")"
   ]
  },
  {
   "cell_type": "code",
   "execution_count": 4,
   "metadata": {},
   "outputs": [
    {
     "name": "stdout",
     "output_type": "stream",
     "text": [
      "<class 'pandas.core.frame.DataFrame'>\n",
      "RangeIndex: 131895 entries, 0 to 131894\n",
      "Data columns (total 17 columns):\n",
      "airline            65947 non-null object\n",
      "overall            64017 non-null float64\n",
      "author             65947 non-null object\n",
      "review_date        65947 non-null object\n",
      "customer_review    65947 non-null object\n",
      "aircraft           19718 non-null object\n",
      "traveller_type     39755 non-null object\n",
      "cabin              63303 non-null object\n",
      "route              39726 non-null object\n",
      "date_flown         39633 non-null object\n",
      "seat_comfort       60681 non-null float64\n",
      "cabin_service      60715 non-null float64\n",
      "food_bev           52608 non-null float64\n",
      "entertainment      44193 non-null float64\n",
      "ground_service     39358 non-null float64\n",
      "value_for_money    63975 non-null float64\n",
      "recommended        64440 non-null object\n",
      "dtypes: float64(7), object(10)\n",
      "memory usage: 17.1+ MB\n"
     ]
    }
   ],
   "source": [
    "skytrax.info()"
   ]
  },
  {
   "cell_type": "code",
   "execution_count": 5,
   "metadata": {},
   "outputs": [
    {
     "data": {
      "text/html": [
       "<div>\n",
       "<style scoped>\n",
       "    .dataframe tbody tr th:only-of-type {\n",
       "        vertical-align: middle;\n",
       "    }\n",
       "\n",
       "    .dataframe tbody tr th {\n",
       "        vertical-align: top;\n",
       "    }\n",
       "\n",
       "    .dataframe thead th {\n",
       "        text-align: right;\n",
       "    }\n",
       "</style>\n",
       "<table border=\"1\" class=\"dataframe\">\n",
       "  <thead>\n",
       "    <tr style=\"text-align: right;\">\n",
       "      <th></th>\n",
       "      <th>airline</th>\n",
       "      <th>overall</th>\n",
       "      <th>author</th>\n",
       "      <th>review_date</th>\n",
       "      <th>customer_review</th>\n",
       "      <th>aircraft</th>\n",
       "      <th>traveller_type</th>\n",
       "      <th>cabin</th>\n",
       "      <th>route</th>\n",
       "      <th>date_flown</th>\n",
       "      <th>seat_comfort</th>\n",
       "      <th>cabin_service</th>\n",
       "      <th>food_bev</th>\n",
       "      <th>entertainment</th>\n",
       "      <th>ground_service</th>\n",
       "      <th>value_for_money</th>\n",
       "      <th>recommended</th>\n",
       "    </tr>\n",
       "  </thead>\n",
       "  <tbody>\n",
       "    <tr>\n",
       "      <th>0</th>\n",
       "      <td>NaN</td>\n",
       "      <td>NaN</td>\n",
       "      <td>NaN</td>\n",
       "      <td>NaN</td>\n",
       "      <td>NaN</td>\n",
       "      <td>NaN</td>\n",
       "      <td>NaN</td>\n",
       "      <td>NaN</td>\n",
       "      <td>NaN</td>\n",
       "      <td>NaN</td>\n",
       "      <td>NaN</td>\n",
       "      <td>NaN</td>\n",
       "      <td>NaN</td>\n",
       "      <td>NaN</td>\n",
       "      <td>NaN</td>\n",
       "      <td>NaN</td>\n",
       "      <td>NaN</td>\n",
       "    </tr>\n",
       "    <tr>\n",
       "      <th>1</th>\n",
       "      <td>Turkish Airlines</td>\n",
       "      <td>7.0</td>\n",
       "      <td>Christopher Hackley</td>\n",
       "      <td>8th May 2019</td>\n",
       "      <td>âœ… Trip Verified | London to Izmir via Istanb...</td>\n",
       "      <td>NaN</td>\n",
       "      <td>Business</td>\n",
       "      <td>Economy Class</td>\n",
       "      <td>London to Izmir via Istanbul</td>\n",
       "      <td>2019-05-01 00:00:00</td>\n",
       "      <td>4.0</td>\n",
       "      <td>5.0</td>\n",
       "      <td>4.0</td>\n",
       "      <td>4.0</td>\n",
       "      <td>2.0</td>\n",
       "      <td>4.0</td>\n",
       "      <td>yes</td>\n",
       "    </tr>\n",
       "    <tr>\n",
       "      <th>2</th>\n",
       "      <td>NaN</td>\n",
       "      <td>NaN</td>\n",
       "      <td>NaN</td>\n",
       "      <td>NaN</td>\n",
       "      <td>NaN</td>\n",
       "      <td>NaN</td>\n",
       "      <td>NaN</td>\n",
       "      <td>NaN</td>\n",
       "      <td>NaN</td>\n",
       "      <td>NaN</td>\n",
       "      <td>NaN</td>\n",
       "      <td>NaN</td>\n",
       "      <td>NaN</td>\n",
       "      <td>NaN</td>\n",
       "      <td>NaN</td>\n",
       "      <td>NaN</td>\n",
       "      <td>NaN</td>\n",
       "    </tr>\n",
       "    <tr>\n",
       "      <th>3</th>\n",
       "      <td>Turkish Airlines</td>\n",
       "      <td>2.0</td>\n",
       "      <td>Adriana Pisoi</td>\n",
       "      <td>7th May 2019</td>\n",
       "      <td>âœ… Trip Verified | Istanbul to Bucharest. We ...</td>\n",
       "      <td>NaN</td>\n",
       "      <td>Family Leisure</td>\n",
       "      <td>Economy Class</td>\n",
       "      <td>Istanbul to Bucharest</td>\n",
       "      <td>2019-05-01 00:00:00</td>\n",
       "      <td>4.0</td>\n",
       "      <td>1.0</td>\n",
       "      <td>1.0</td>\n",
       "      <td>1.0</td>\n",
       "      <td>1.0</td>\n",
       "      <td>1.0</td>\n",
       "      <td>no</td>\n",
       "    </tr>\n",
       "    <tr>\n",
       "      <th>4</th>\n",
       "      <td>NaN</td>\n",
       "      <td>NaN</td>\n",
       "      <td>NaN</td>\n",
       "      <td>NaN</td>\n",
       "      <td>NaN</td>\n",
       "      <td>NaN</td>\n",
       "      <td>NaN</td>\n",
       "      <td>NaN</td>\n",
       "      <td>NaN</td>\n",
       "      <td>NaN</td>\n",
       "      <td>NaN</td>\n",
       "      <td>NaN</td>\n",
       "      <td>NaN</td>\n",
       "      <td>NaN</td>\n",
       "      <td>NaN</td>\n",
       "      <td>NaN</td>\n",
       "      <td>NaN</td>\n",
       "    </tr>\n",
       "  </tbody>\n",
       "</table>\n",
       "</div>"
      ],
      "text/plain": [
       "            airline  overall               author   review_date  \\\n",
       "0               NaN      NaN                  NaN           NaN   \n",
       "1  Turkish Airlines      7.0  Christopher Hackley  8th May 2019   \n",
       "2               NaN      NaN                  NaN           NaN   \n",
       "3  Turkish Airlines      2.0        Adriana Pisoi  7th May 2019   \n",
       "4               NaN      NaN                  NaN           NaN   \n",
       "\n",
       "                                     customer_review aircraft  traveller_type  \\\n",
       "0                                                NaN      NaN             NaN   \n",
       "1  âœ… Trip Verified | London to Izmir via Istanb...      NaN        Business   \n",
       "2                                                NaN      NaN             NaN   \n",
       "3  âœ… Trip Verified | Istanbul to Bucharest. We ...      NaN  Family Leisure   \n",
       "4                                                NaN      NaN             NaN   \n",
       "\n",
       "           cabin                         route           date_flown  \\\n",
       "0            NaN                           NaN                  NaN   \n",
       "1  Economy Class  London to Izmir via Istanbul  2019-05-01 00:00:00   \n",
       "2            NaN                           NaN                  NaN   \n",
       "3  Economy Class         Istanbul to Bucharest  2019-05-01 00:00:00   \n",
       "4            NaN                           NaN                  NaN   \n",
       "\n",
       "   seat_comfort  cabin_service  food_bev  entertainment  ground_service  \\\n",
       "0           NaN            NaN       NaN            NaN             NaN   \n",
       "1           4.0            5.0       4.0            4.0             2.0   \n",
       "2           NaN            NaN       NaN            NaN             NaN   \n",
       "3           4.0            1.0       1.0            1.0             1.0   \n",
       "4           NaN            NaN       NaN            NaN             NaN   \n",
       "\n",
       "   value_for_money recommended  \n",
       "0              NaN         NaN  \n",
       "1              4.0         yes  \n",
       "2              NaN         NaN  \n",
       "3              1.0          no  \n",
       "4              NaN         NaN  "
      ]
     },
     "execution_count": 5,
     "metadata": {},
     "output_type": "execute_result"
    }
   ],
   "source": [
    "skytrax.head()"
   ]
  },
  {
   "cell_type": "markdown",
   "metadata": {},
   "source": [
    "### Percentage of missing values per column "
   ]
  },
  {
   "cell_type": "code",
   "execution_count": 9,
   "metadata": {},
   "outputs": [
    {
     "data": {
      "text/plain": [
       "airline            0.500004\n",
       "overall            0.514637\n",
       "author             0.500004\n",
       "review_date        0.500004\n",
       "customer_review    0.500004\n",
       "aircraft           0.850502\n",
       "traveller_type     0.698586\n",
       "cabin              0.520050\n",
       "route              0.698806\n",
       "date_flown         0.699511\n",
       "seat_comfort       0.539929\n",
       "cabin_service      0.539672\n",
       "food_bev           0.601137\n",
       "entertainment      0.664938\n",
       "ground_service     0.701596\n",
       "value_for_money    0.514955\n",
       "recommended        0.511430\n",
       "dtype: float64"
      ]
     },
     "execution_count": 9,
     "metadata": {},
     "output_type": "execute_result"
    }
   ],
   "source": [
    "\n",
    "np.sum(skytrax.isnull())/skytrax.shape[0]"
   ]
  },
  {
   "cell_type": "markdown",
   "metadata": {},
   "source": [
    "### Dropping rows with 100% Null values"
   ]
  },
  {
   "cell_type": "code",
   "execution_count": 20,
   "metadata": {},
   "outputs": [
    {
     "name": "stdout",
     "output_type": "stream",
     "text": [
      "Number of rows with NULL values in all columns : 65948\n"
     ]
    }
   ],
   "source": [
    "print(\"Number of rows with NULL values in all columns :\",skytrax.shape[0] - skytrax.dropna(how='all').shape[0] )\n",
    "skytrax = skytrax.dropna(how='all')"
   ]
  },
  {
   "cell_type": "code",
   "execution_count": 21,
   "metadata": {},
   "outputs": [
    {
     "name": "stdout",
     "output_type": "stream",
     "text": [
      "<class 'pandas.core.frame.DataFrame'>\n",
      "Int64Index: 65947 entries, 1 to 131894\n",
      "Data columns (total 17 columns):\n",
      "airline            65947 non-null object\n",
      "overall            64017 non-null float64\n",
      "author             65947 non-null object\n",
      "review_date        65947 non-null object\n",
      "customer_review    65947 non-null object\n",
      "aircraft           19718 non-null object\n",
      "traveller_type     39755 non-null object\n",
      "cabin              63303 non-null object\n",
      "route              39726 non-null object\n",
      "date_flown         39633 non-null object\n",
      "seat_comfort       60681 non-null float64\n",
      "cabin_service      60715 non-null float64\n",
      "food_bev           52608 non-null float64\n",
      "entertainment      44193 non-null float64\n",
      "ground_service     39358 non-null float64\n",
      "value_for_money    63975 non-null float64\n",
      "recommended        64440 non-null object\n",
      "dtypes: float64(7), object(10)\n",
      "memory usage: 9.1+ MB\n"
     ]
    }
   ],
   "source": [
    "skytrax.info()"
   ]
  },
  {
   "cell_type": "markdown",
   "metadata": {},
   "source": [
    "### Percentage of missing values per column: After removing nulls"
   ]
  },
  {
   "cell_type": "code",
   "execution_count": 23,
   "metadata": {},
   "outputs": [
    {
     "data": {
      "text/plain": [
       "airline            0.000000\n",
       "overall            0.029266\n",
       "author             0.000000\n",
       "review_date        0.000000\n",
       "customer_review    0.000000\n",
       "aircraft           0.701002\n",
       "traveller_type     0.397167\n",
       "cabin              0.040093\n",
       "route              0.397607\n",
       "date_flown         0.399017\n",
       "seat_comfort       0.079852\n",
       "cabin_service      0.079336\n",
       "food_bev           0.202268\n",
       "entertainment      0.329871\n",
       "ground_service     0.403187\n",
       "value_for_money    0.029903\n",
       "recommended        0.022852\n",
       "dtype: float64"
      ]
     },
     "execution_count": 23,
     "metadata": {},
     "output_type": "execute_result"
    }
   ],
   "source": [
    "np.sum(skytrax.isnull())/skytrax.shape[0]"
   ]
  },
  {
   "cell_type": "markdown",
   "metadata": {},
   "source": [
    "### Number of columns with 0% missing value"
   ]
  },
  {
   "cell_type": "code",
   "execution_count": 24,
   "metadata": {},
   "outputs": [
    {
     "data": {
      "text/plain": [
       "4"
      ]
     },
     "execution_count": 24,
     "metadata": {},
     "output_type": "execute_result"
    }
   ],
   "source": [
    "\n",
    "np.sum(np.sum(skytrax.isnull())/skytrax.shape[0] ==0)\n"
   ]
  },
  {
   "cell_type": "markdown",
   "metadata": {},
   "source": [
    "### Number of columns with more than 50% missing value"
   ]
  },
  {
   "cell_type": "code",
   "execution_count": 26,
   "metadata": {},
   "outputs": [
    {
     "data": {
      "text/plain": [
       "1"
      ]
     },
     "execution_count": 26,
     "metadata": {},
     "output_type": "execute_result"
    }
   ],
   "source": [
    "np.sum(np.sum(skytrax.isnull())/skytrax.shape[0] > 0.5)"
   ]
  },
  {
   "cell_type": "code",
   "execution_count": 27,
   "metadata": {},
   "outputs": [
    {
     "data": {
      "text/html": [
       "<div>\n",
       "<style scoped>\n",
       "    .dataframe tbody tr th:only-of-type {\n",
       "        vertical-align: middle;\n",
       "    }\n",
       "\n",
       "    .dataframe tbody tr th {\n",
       "        vertical-align: top;\n",
       "    }\n",
       "\n",
       "    .dataframe thead th {\n",
       "        text-align: right;\n",
       "    }\n",
       "</style>\n",
       "<table border=\"1\" class=\"dataframe\">\n",
       "  <thead>\n",
       "    <tr style=\"text-align: right;\">\n",
       "      <th></th>\n",
       "      <th>airline</th>\n",
       "      <th>overall</th>\n",
       "      <th>author</th>\n",
       "      <th>review_date</th>\n",
       "      <th>customer_review</th>\n",
       "      <th>aircraft</th>\n",
       "      <th>traveller_type</th>\n",
       "      <th>cabin</th>\n",
       "      <th>route</th>\n",
       "      <th>date_flown</th>\n",
       "      <th>seat_comfort</th>\n",
       "      <th>cabin_service</th>\n",
       "      <th>food_bev</th>\n",
       "      <th>entertainment</th>\n",
       "      <th>ground_service</th>\n",
       "      <th>value_for_money</th>\n",
       "      <th>recommended</th>\n",
       "    </tr>\n",
       "  </thead>\n",
       "  <tbody>\n",
       "    <tr>\n",
       "      <th>1</th>\n",
       "      <td>Turkish Airlines</td>\n",
       "      <td>7.0</td>\n",
       "      <td>Christopher Hackley</td>\n",
       "      <td>8th May 2019</td>\n",
       "      <td>âœ… Trip Verified | London to Izmir via Istanb...</td>\n",
       "      <td>NaN</td>\n",
       "      <td>Business</td>\n",
       "      <td>Economy Class</td>\n",
       "      <td>London to Izmir via Istanbul</td>\n",
       "      <td>2019-05-01 00:00:00</td>\n",
       "      <td>4.0</td>\n",
       "      <td>5.0</td>\n",
       "      <td>4.0</td>\n",
       "      <td>4.0</td>\n",
       "      <td>2.0</td>\n",
       "      <td>4.0</td>\n",
       "      <td>yes</td>\n",
       "    </tr>\n",
       "    <tr>\n",
       "      <th>3</th>\n",
       "      <td>Turkish Airlines</td>\n",
       "      <td>2.0</td>\n",
       "      <td>Adriana Pisoi</td>\n",
       "      <td>7th May 2019</td>\n",
       "      <td>âœ… Trip Verified | Istanbul to Bucharest. We ...</td>\n",
       "      <td>NaN</td>\n",
       "      <td>Family Leisure</td>\n",
       "      <td>Economy Class</td>\n",
       "      <td>Istanbul to Bucharest</td>\n",
       "      <td>2019-05-01 00:00:00</td>\n",
       "      <td>4.0</td>\n",
       "      <td>1.0</td>\n",
       "      <td>1.0</td>\n",
       "      <td>1.0</td>\n",
       "      <td>1.0</td>\n",
       "      <td>1.0</td>\n",
       "      <td>no</td>\n",
       "    </tr>\n",
       "    <tr>\n",
       "      <th>5</th>\n",
       "      <td>Turkish Airlines</td>\n",
       "      <td>3.0</td>\n",
       "      <td>M Galerko</td>\n",
       "      <td>7th May 2019</td>\n",
       "      <td>âœ… Trip Verified | Rome to Prishtina via Ista...</td>\n",
       "      <td>NaN</td>\n",
       "      <td>Business</td>\n",
       "      <td>Economy Class</td>\n",
       "      <td>Rome to Prishtina via Istanbul</td>\n",
       "      <td>2019-05-01 00:00:00</td>\n",
       "      <td>1.0</td>\n",
       "      <td>4.0</td>\n",
       "      <td>1.0</td>\n",
       "      <td>3.0</td>\n",
       "      <td>1.0</td>\n",
       "      <td>2.0</td>\n",
       "      <td>no</td>\n",
       "    </tr>\n",
       "    <tr>\n",
       "      <th>7</th>\n",
       "      <td>Turkish Airlines</td>\n",
       "      <td>10.0</td>\n",
       "      <td>Zeshan Shah</td>\n",
       "      <td>6th May 2019</td>\n",
       "      <td>âœ… Trip Verified | Flew on Turkish Airlines I...</td>\n",
       "      <td>A330</td>\n",
       "      <td>Solo Leisure</td>\n",
       "      <td>Economy Class</td>\n",
       "      <td>Washington Dulles to Karachi</td>\n",
       "      <td>April 2019</td>\n",
       "      <td>4.0</td>\n",
       "      <td>5.0</td>\n",
       "      <td>5.0</td>\n",
       "      <td>5.0</td>\n",
       "      <td>5.0</td>\n",
       "      <td>5.0</td>\n",
       "      <td>yes</td>\n",
       "    </tr>\n",
       "    <tr>\n",
       "      <th>9</th>\n",
       "      <td>Turkish Airlines</td>\n",
       "      <td>1.0</td>\n",
       "      <td>Pooja Jain</td>\n",
       "      <td>6th May 2019</td>\n",
       "      <td>âœ… Trip Verified | Mumbai to Dublin via Istan...</td>\n",
       "      <td>NaN</td>\n",
       "      <td>Solo Leisure</td>\n",
       "      <td>Economy Class</td>\n",
       "      <td>Mumbai to Dublin via Istanbul</td>\n",
       "      <td>2019-05-01 00:00:00</td>\n",
       "      <td>1.0</td>\n",
       "      <td>1.0</td>\n",
       "      <td>1.0</td>\n",
       "      <td>1.0</td>\n",
       "      <td>1.0</td>\n",
       "      <td>1.0</td>\n",
       "      <td>no</td>\n",
       "    </tr>\n",
       "  </tbody>\n",
       "</table>\n",
       "</div>"
      ],
      "text/plain": [
       "            airline  overall               author   review_date  \\\n",
       "1  Turkish Airlines      7.0  Christopher Hackley  8th May 2019   \n",
       "3  Turkish Airlines      2.0        Adriana Pisoi  7th May 2019   \n",
       "5  Turkish Airlines      3.0            M Galerko  7th May 2019   \n",
       "7  Turkish Airlines     10.0          Zeshan Shah  6th May 2019   \n",
       "9  Turkish Airlines      1.0           Pooja Jain  6th May 2019   \n",
       "\n",
       "                                     customer_review aircraft  traveller_type  \\\n",
       "1  âœ… Trip Verified | London to Izmir via Istanb...      NaN        Business   \n",
       "3  âœ… Trip Verified | Istanbul to Bucharest. We ...      NaN  Family Leisure   \n",
       "5  âœ… Trip Verified | Rome to Prishtina via Ista...      NaN        Business   \n",
       "7  âœ… Trip Verified | Flew on Turkish Airlines I...     A330    Solo Leisure   \n",
       "9  âœ… Trip Verified | Mumbai to Dublin via Istan...      NaN    Solo Leisure   \n",
       "\n",
       "           cabin                           route           date_flown  \\\n",
       "1  Economy Class    London to Izmir via Istanbul  2019-05-01 00:00:00   \n",
       "3  Economy Class           Istanbul to Bucharest  2019-05-01 00:00:00   \n",
       "5  Economy Class  Rome to Prishtina via Istanbul  2019-05-01 00:00:00   \n",
       "7  Economy Class    Washington Dulles to Karachi           April 2019   \n",
       "9  Economy Class   Mumbai to Dublin via Istanbul  2019-05-01 00:00:00   \n",
       "\n",
       "   seat_comfort  cabin_service  food_bev  entertainment  ground_service  \\\n",
       "1           4.0            5.0       4.0            4.0             2.0   \n",
       "3           4.0            1.0       1.0            1.0             1.0   \n",
       "5           1.0            4.0       1.0            3.0             1.0   \n",
       "7           4.0            5.0       5.0            5.0             5.0   \n",
       "9           1.0            1.0       1.0            1.0             1.0   \n",
       "\n",
       "   value_for_money recommended  \n",
       "1              4.0         yes  \n",
       "3              1.0          no  \n",
       "5              2.0          no  \n",
       "7              5.0         yes  \n",
       "9              1.0          no  "
      ]
     },
     "execution_count": 27,
     "metadata": {},
     "output_type": "execute_result"
    }
   ],
   "source": [
    "skytrax.head()"
   ]
  },
  {
   "cell_type": "markdown",
   "metadata": {},
   "source": [
    "### Total Airlines"
   ]
  },
  {
   "cell_type": "code",
   "execution_count": 33,
   "metadata": {},
   "outputs": [
    {
     "data": {
      "text/plain": [
       "Spirit Airlines             2934\n",
       "American Airlines           2867\n",
       "United Airlines             2829\n",
       "British Airways             2811\n",
       "Cathay Pacific Airways      2402\n",
       "Air Canada rouge            2192\n",
       "Emirates                    1786\n",
       "China Southern Airlines     1722\n",
       "Frontier Airlines           1624\n",
       "Ryanair                     1566\n",
       "Delta Air Lines             1547\n",
       "Turkish Airlines            1491\n",
       "Qatar Airways               1445\n",
       "Lufthansa                   1421\n",
       "Air India                   1382\n",
       "Qantas Airways              1362\n",
       "Air China                   1354\n",
       "Etihad Airways              1290\n",
       "Air Canada                  1281\n",
       "Norwegian                   1156\n",
       "Singapore Airlines          1064\n",
       "easyJet                     1041\n",
       "KLM Royal Dutch Airlines     978\n",
       "Vueling Airlines             965\n",
       "Air France                   932\n",
       "Southwest Airlines           913\n",
       "TAP Portugal                 848\n",
       "Thai Airways                 795\n",
       "Wizz Air                     746\n",
       "Garuda Indonesia             744\n",
       "                            ... \n",
       "Asiana Airlines              447\n",
       "Aeromexico                   437\n",
       "Brussels Airlines            422\n",
       "Ethiopian Airlines           420\n",
       "LOT Polish Airlines          404\n",
       "South African Airways        395\n",
       "airBaltic                    362\n",
       "Bangkok Airways              356\n",
       "Egyptair                     329\n",
       "Virgin America               310\n",
       "Avianca                      306\n",
       "Ukraine International        306\n",
       "Pegasus Airlines             296\n",
       "Gulf Air                     277\n",
       "Kuwait Airways               270\n",
       "IndiGo                       267\n",
       "Royal Air Maroc              265\n",
       "Eurowings                    264\n",
       "Royal Jordanian Airlines     263\n",
       "Saudi Arabian Airlines       245\n",
       "LATAM Airlines               227\n",
       "Copa Airlines                218\n",
       "flydubai                     201\n",
       "Germanwings                  144\n",
       "TAROM Romanian               133\n",
       "QantasLink                   105\n",
       "Adria Airways                 85\n",
       "Air Arabia                    80\n",
       "Tunisair                      71\n",
       "Thai Smile Airways            48\n",
       "Name: airline, Length: 81, dtype: int64"
      ]
     },
     "execution_count": 33,
     "metadata": {},
     "output_type": "execute_result"
    }
   ],
   "source": [
    "skytrax['airline'].value_counts()"
   ]
  },
  {
   "cell_type": "markdown",
   "metadata": {},
   "source": [
    "### Top Routes of Airlines"
   ]
  },
  {
   "cell_type": "code",
   "execution_count": 35,
   "metadata": {},
   "outputs": [
    {
     "data": {
      "text/plain": [
       "Bangkok to Hong Kong                    35\n",
       "BKK to LHR                              32\n",
       "LHR to JFK                              30\n",
       "Vancouver to Toronto                    30\n",
       "Hong Kong to Bangkok                    28\n",
       "Singapore to Bangkok                    28\n",
       "LHR to BKK                              27\n",
       "HKG to LHR                              26\n",
       "Guangzhou to New York                   26\n",
       "Hong Kong to London                     25\n",
       "LHR to HKG                              24\n",
       "Singapore to Hong Kong                  23\n",
       "Jakarta to Singapore                    23\n",
       "London to Bangkok                       23\n",
       "Singapore to Sydney                     23\n",
       "Singapore to Jakarta                    23\n",
       "Bangkok to Singapore                    22\n",
       "London to Hong Kong                     22\n",
       "Guangzhou to Auckland                   22\n",
       "Auckland to Sydney                      22\n",
       "Melbourne to Sydney                     22\n",
       "Barcelona to Gatwick                    21\n",
       "Guangzhou to Sydney                     21\n",
       "Toronto to Las Vegas                    21\n",
       "Sydney to Melbourne                     21\n",
       "JFK to LHR                              20\n",
       "Toronto to Vancouver                    20\n",
       "Bangkok to London                       20\n",
       "CAN to LAX                              20\n",
       "Sydney to Singapore                     20\n",
       "                                        ..\n",
       "CDG to SLC                               1\n",
       "Baku to Frankfurt via Budapest           1\n",
       "MKE to LaGuardia                         1\n",
       "Doha to Alexandria                       1\n",
       "Los Angeles to Guiyang via Guangzhou     1\n",
       "Toronto to Lahore via Jeddah             1\n",
       "Geneva to Baltimore via Keflavik         1\n",
       "LHR to MCT via BAH                       1\n",
       "Nanjing to Hong Kong                     1\n",
       "Rome to Edinburgh via Amsterdam          1\n",
       "Washington to Frankfurt via London       1\n",
       "Penang to Copenhagen via Doha            1\n",
       "DEL to NBO via ADD                       1\n",
       "Nanchang to Paris via Guangzhou          1\n",
       "CGK to LBJ via DPS                       1\n",
       "XIY to PEK                               1\n",
       "Budapest to Nuremberg                    1\n",
       "MCO to STL                               1\n",
       "Hong Kong to Copenhagen via Zurich       1\n",
       "Helsinki to Chicago O'Hare               1\n",
       "Denver to Boston via Charlotte           1\n",
       "JFK to LGW via KBP                       1\n",
       "CAN to DPS                               1\n",
       "Stockholm to Bangkok via Istanbul        1\n",
       "Tampa, FL to Vienna, Austria             1\n",
       "Mumbai to Dehradun via Delhi             1\n",
       "MNL to LHR via DOH                       1\n",
       "Toronto to Oslo via London               1\n",
       "Orlando to Honolulu via Phoenix          1\n",
       "ORD to CVG                               1\n",
       "Name: route, Length: 24549, dtype: int64"
      ]
     },
     "execution_count": 35,
     "metadata": {},
     "output_type": "execute_result"
    }
   ],
   "source": [
    "skytrax['route'].value_counts()"
   ]
  },
  {
   "cell_type": "markdown",
   "metadata": {},
   "source": [
    "### Working with only US Domestic Airlines"
   ]
  },
  {
   "cell_type": "code",
   "execution_count": 48,
   "metadata": {},
   "outputs": [
    {
     "ename": "SyntaxError",
     "evalue": "invalid syntax (<ipython-input-48-d6c92de5f3be>, line 2)",
     "output_type": "error",
     "traceback": [
      "\u001b[0;36m  File \u001b[0;32m\"<ipython-input-48-d6c92de5f3be>\"\u001b[0;36m, line \u001b[0;32m2\u001b[0m\n\u001b[0;31m    'United Airlines','Jetblue Airways', 'Frontier Airlines', 'Spirit Airlines')]\u001b[0m\n\u001b[0m                                                                                ^\u001b[0m\n\u001b[0;31mSyntaxError\u001b[0m\u001b[0;31m:\u001b[0m invalid syntax\n"
     ]
    }
   ],
   "source": [
    "skytrax['airline'] in ('American Airlines', 'Delta Air Lines', 'Southwest Airlines', \n",
    "                        'United Airlines','Jetblue Airways', 'Frontier Airlines', 'Spirit Airlines')]"
   ]
  },
  {
   "cell_type": "code",
   "execution_count": 52,
   "metadata": {},
   "outputs": [
    {
     "data": {
      "text/html": [
       "<div>\n",
       "<style scoped>\n",
       "    .dataframe tbody tr th:only-of-type {\n",
       "        vertical-align: middle;\n",
       "    }\n",
       "\n",
       "    .dataframe tbody tr th {\n",
       "        vertical-align: top;\n",
       "    }\n",
       "\n",
       "    .dataframe thead th {\n",
       "        text-align: right;\n",
       "    }\n",
       "</style>\n",
       "<table border=\"1\" class=\"dataframe\">\n",
       "  <thead>\n",
       "    <tr style=\"text-align: right;\">\n",
       "      <th></th>\n",
       "      <th>airline</th>\n",
       "      <th>overall</th>\n",
       "      <th>author</th>\n",
       "      <th>review_date</th>\n",
       "      <th>customer_review</th>\n",
       "      <th>aircraft</th>\n",
       "      <th>traveller_type</th>\n",
       "      <th>cabin</th>\n",
       "      <th>route</th>\n",
       "      <th>date_flown</th>\n",
       "      <th>seat_comfort</th>\n",
       "      <th>cabin_service</th>\n",
       "      <th>food_bev</th>\n",
       "      <th>entertainment</th>\n",
       "      <th>ground_service</th>\n",
       "      <th>value_for_money</th>\n",
       "      <th>recommended</th>\n",
       "    </tr>\n",
       "  </thead>\n",
       "  <tbody>\n",
       "  </tbody>\n",
       "</table>\n",
       "</div>"
      ],
      "text/plain": [
       "Empty DataFrame\n",
       "Columns: [airline, overall, author, review_date, customer_review, aircraft, traveller_type, cabin, route, date_flown, seat_comfort, cabin_service, food_bev, entertainment, ground_service, value_for_money, recommended]\n",
       "Index: []"
      ]
     },
     "execution_count": 52,
     "metadata": {},
     "output_type": "execute_result"
    }
   ],
   "source": [
    "skytrax.filter(like='Spirit', axis=0)"
   ]
  },
  {
   "cell_type": "code",
   "execution_count": null,
   "metadata": {},
   "outputs": [],
   "source": [
    "skytrax[]"
   ]
  },
  {
   "cell_type": "code",
   "execution_count": null,
   "metadata": {},
   "outputs": [],
   "source": []
  },
  {
   "cell_type": "code",
   "execution_count": 15,
   "metadata": {},
   "outputs": [
    {
     "data": {
      "text/plain": [
       "65947"
      ]
     },
     "execution_count": 15,
     "metadata": {},
     "output_type": "execute_result"
    }
   ],
   "source": [
    "skytrax.dropna(how='all').shape[0]"
   ]
  },
  {
   "cell_type": "code",
   "execution_count": 16,
   "metadata": {},
   "outputs": [
    {
     "data": {
      "text/plain": [
       "131895"
      ]
     },
     "execution_count": 16,
     "metadata": {},
     "output_type": "execute_result"
    }
   ],
   "source": [
    "skytrax.shape[0]"
   ]
  },
  {
   "cell_type": "code",
   "execution_count": 17,
   "metadata": {},
   "outputs": [
    {
     "data": {
      "text/plain": [
       "65948"
      ]
     },
     "execution_count": 17,
     "metadata": {},
     "output_type": "execute_result"
    }
   ],
   "source": [
    "131895-65947"
   ]
  },
  {
   "cell_type": "code",
   "execution_count": 81,
   "metadata": {},
   "outputs": [
    {
     "data": {
      "text/html": [
       "<div>\n",
       "<style scoped>\n",
       "    .dataframe tbody tr th:only-of-type {\n",
       "        vertical-align: middle;\n",
       "    }\n",
       "\n",
       "    .dataframe tbody tr th {\n",
       "        vertical-align: top;\n",
       "    }\n",
       "\n",
       "    .dataframe thead th {\n",
       "        text-align: right;\n",
       "    }\n",
       "</style>\n",
       "<table border=\"1\" class=\"dataframe\">\n",
       "  <thead>\n",
       "    <tr style=\"text-align: right;\">\n",
       "      <th></th>\n",
       "      <th>airline</th>\n",
       "    </tr>\n",
       "  </thead>\n",
       "  <tbody>\n",
       "    <tr>\n",
       "      <th>1</th>\n",
       "      <td>Turkish Airlines</td>\n",
       "    </tr>\n",
       "    <tr>\n",
       "      <th>3</th>\n",
       "      <td>Turkish Airlines</td>\n",
       "    </tr>\n",
       "    <tr>\n",
       "      <th>5</th>\n",
       "      <td>Turkish Airlines</td>\n",
       "    </tr>\n",
       "    <tr>\n",
       "      <th>7</th>\n",
       "      <td>Turkish Airlines</td>\n",
       "    </tr>\n",
       "    <tr>\n",
       "      <th>9</th>\n",
       "      <td>Turkish Airlines</td>\n",
       "    </tr>\n",
       "    <tr>\n",
       "      <th>11</th>\n",
       "      <td>Turkish Airlines</td>\n",
       "    </tr>\n",
       "    <tr>\n",
       "      <th>13</th>\n",
       "      <td>Turkish Airlines</td>\n",
       "    </tr>\n",
       "    <tr>\n",
       "      <th>15</th>\n",
       "      <td>Turkish Airlines</td>\n",
       "    </tr>\n",
       "    <tr>\n",
       "      <th>17</th>\n",
       "      <td>Turkish Airlines</td>\n",
       "    </tr>\n",
       "    <tr>\n",
       "      <th>19</th>\n",
       "      <td>Turkish Airlines</td>\n",
       "    </tr>\n",
       "  </tbody>\n",
       "</table>\n",
       "</div>"
      ],
      "text/plain": [
       "             airline\n",
       "1   Turkish Airlines\n",
       "3   Turkish Airlines\n",
       "5   Turkish Airlines\n",
       "7   Turkish Airlines\n",
       "9   Turkish Airlines\n",
       "11  Turkish Airlines\n",
       "13  Turkish Airlines\n",
       "15  Turkish Airlines\n",
       "17  Turkish Airlines\n",
       "19  Turkish Airlines"
      ]
     },
     "execution_count": 81,
     "metadata": {},
     "output_type": "execute_result"
    }
   ],
   "source": [
    "a = skytrax[['airline']].head(10)\n",
    "a"
   ]
  },
  {
   "cell_type": "code",
   "execution_count": 65,
   "metadata": {},
   "outputs": [
    {
     "name": "stdout",
     "output_type": "stream",
     "text": [
      "Turkish Airlines\n",
      "Turkish Airlines\n",
      "Turkish Airlines\n",
      "Turkish Airlines\n",
      "Turkish Airlines\n",
      "Turkish Airlines\n",
      "Turkish Airlines\n",
      "Turkish Airlines\n",
      "Turkish Airlines\n",
      "Turkish Airlines\n"
     ]
    }
   ],
   "source": [
    "for name in a.airline:\n",
    "    x, y = name.split(' ')\n",
    "    print(x,y)"
   ]
  },
  {
   "cell_type": "code",
   "execution_count": 82,
   "metadata": {},
   "outputs": [
    {
     "data": {
      "text/html": [
       "<div>\n",
       "<style scoped>\n",
       "    .dataframe tbody tr th:only-of-type {\n",
       "        vertical-align: middle;\n",
       "    }\n",
       "\n",
       "    .dataframe tbody tr th {\n",
       "        vertical-align: top;\n",
       "    }\n",
       "\n",
       "    .dataframe thead th {\n",
       "        text-align: right;\n",
       "    }\n",
       "</style>\n",
       "<table border=\"1\" class=\"dataframe\">\n",
       "  <thead>\n",
       "    <tr style=\"text-align: right;\">\n",
       "      <th></th>\n",
       "      <th>airline</th>\n",
       "    </tr>\n",
       "  </thead>\n",
       "  <tbody>\n",
       "    <tr>\n",
       "      <th>1</th>\n",
       "      <td>Turkish Airlines</td>\n",
       "    </tr>\n",
       "    <tr>\n",
       "      <th>3</th>\n",
       "      <td>Turkish Airlines</td>\n",
       "    </tr>\n",
       "    <tr>\n",
       "      <th>5</th>\n",
       "      <td>Turkish Airlines</td>\n",
       "    </tr>\n",
       "    <tr>\n",
       "      <th>7</th>\n",
       "      <td>Turkish Airlines</td>\n",
       "    </tr>\n",
       "    <tr>\n",
       "      <th>9</th>\n",
       "      <td>Turkish Airlines</td>\n",
       "    </tr>\n",
       "    <tr>\n",
       "      <th>11</th>\n",
       "      <td>Turkish Airlines</td>\n",
       "    </tr>\n",
       "    <tr>\n",
       "      <th>13</th>\n",
       "      <td>Turkish Airlines</td>\n",
       "    </tr>\n",
       "    <tr>\n",
       "      <th>15</th>\n",
       "      <td>Turkish Airlines</td>\n",
       "    </tr>\n",
       "    <tr>\n",
       "      <th>17</th>\n",
       "      <td>Turkish Airlines</td>\n",
       "    </tr>\n",
       "    <tr>\n",
       "      <th>19</th>\n",
       "      <td>Turkish Airlines</td>\n",
       "    </tr>\n",
       "  </tbody>\n",
       "</table>\n",
       "</div>"
      ],
      "text/plain": [
       "             airline\n",
       "1   Turkish Airlines\n",
       "3   Turkish Airlines\n",
       "5   Turkish Airlines\n",
       "7   Turkish Airlines\n",
       "9   Turkish Airlines\n",
       "11  Turkish Airlines\n",
       "13  Turkish Airlines\n",
       "15  Turkish Airlines\n",
       "17  Turkish Airlines\n",
       "19  Turkish Airlines"
      ]
     },
     "execution_count": 82,
     "metadata": {},
     "output_type": "execute_result"
    }
   ],
   "source": [
    "a"
   ]
  },
  {
   "cell_type": "code",
   "execution_count": 83,
   "metadata": {},
   "outputs": [],
   "source": [
    "a['x'], a['y'] = a['airline'].str.split(' ').str"
   ]
  },
  {
   "cell_type": "code",
   "execution_count": 84,
   "metadata": {},
   "outputs": [
    {
     "data": {
      "text/html": [
       "<div>\n",
       "<style scoped>\n",
       "    .dataframe tbody tr th:only-of-type {\n",
       "        vertical-align: middle;\n",
       "    }\n",
       "\n",
       "    .dataframe tbody tr th {\n",
       "        vertical-align: top;\n",
       "    }\n",
       "\n",
       "    .dataframe thead th {\n",
       "        text-align: right;\n",
       "    }\n",
       "</style>\n",
       "<table border=\"1\" class=\"dataframe\">\n",
       "  <thead>\n",
       "    <tr style=\"text-align: right;\">\n",
       "      <th></th>\n",
       "      <th>airline</th>\n",
       "      <th>x</th>\n",
       "      <th>y</th>\n",
       "    </tr>\n",
       "  </thead>\n",
       "  <tbody>\n",
       "    <tr>\n",
       "      <th>1</th>\n",
       "      <td>Turkish Airlines</td>\n",
       "      <td>Turkish</td>\n",
       "      <td>Airlines</td>\n",
       "    </tr>\n",
       "    <tr>\n",
       "      <th>3</th>\n",
       "      <td>Turkish Airlines</td>\n",
       "      <td>Turkish</td>\n",
       "      <td>Airlines</td>\n",
       "    </tr>\n",
       "    <tr>\n",
       "      <th>5</th>\n",
       "      <td>Turkish Airlines</td>\n",
       "      <td>Turkish</td>\n",
       "      <td>Airlines</td>\n",
       "    </tr>\n",
       "    <tr>\n",
       "      <th>7</th>\n",
       "      <td>Turkish Airlines</td>\n",
       "      <td>Turkish</td>\n",
       "      <td>Airlines</td>\n",
       "    </tr>\n",
       "    <tr>\n",
       "      <th>9</th>\n",
       "      <td>Turkish Airlines</td>\n",
       "      <td>Turkish</td>\n",
       "      <td>Airlines</td>\n",
       "    </tr>\n",
       "    <tr>\n",
       "      <th>11</th>\n",
       "      <td>Turkish Airlines</td>\n",
       "      <td>Turkish</td>\n",
       "      <td>Airlines</td>\n",
       "    </tr>\n",
       "    <tr>\n",
       "      <th>13</th>\n",
       "      <td>Turkish Airlines</td>\n",
       "      <td>Turkish</td>\n",
       "      <td>Airlines</td>\n",
       "    </tr>\n",
       "    <tr>\n",
       "      <th>15</th>\n",
       "      <td>Turkish Airlines</td>\n",
       "      <td>Turkish</td>\n",
       "      <td>Airlines</td>\n",
       "    </tr>\n",
       "    <tr>\n",
       "      <th>17</th>\n",
       "      <td>Turkish Airlines</td>\n",
       "      <td>Turkish</td>\n",
       "      <td>Airlines</td>\n",
       "    </tr>\n",
       "    <tr>\n",
       "      <th>19</th>\n",
       "      <td>Turkish Airlines</td>\n",
       "      <td>Turkish</td>\n",
       "      <td>Airlines</td>\n",
       "    </tr>\n",
       "  </tbody>\n",
       "</table>\n",
       "</div>"
      ],
      "text/plain": [
       "             airline        x         y\n",
       "1   Turkish Airlines  Turkish  Airlines\n",
       "3   Turkish Airlines  Turkish  Airlines\n",
       "5   Turkish Airlines  Turkish  Airlines\n",
       "7   Turkish Airlines  Turkish  Airlines\n",
       "9   Turkish Airlines  Turkish  Airlines\n",
       "11  Turkish Airlines  Turkish  Airlines\n",
       "13  Turkish Airlines  Turkish  Airlines\n",
       "15  Turkish Airlines  Turkish  Airlines\n",
       "17  Turkish Airlines  Turkish  Airlines\n",
       "19  Turkish Airlines  Turkish  Airlines"
      ]
     },
     "execution_count": 84,
     "metadata": {},
     "output_type": "execute_result"
    }
   ],
   "source": [
    "a"
   ]
  },
  {
   "cell_type": "code",
   "execution_count": 71,
   "metadata": {},
   "outputs": [
    {
     "data": {
      "text/plain": [
       "1     [Turkish, Airlines]\n",
       "3     [Turkish, Airlines]\n",
       "5     [Turkish, Airlines]\n",
       "7     [Turkish, Airlines]\n",
       "9     [Turkish, Airlines]\n",
       "11    [Turkish, Airlines]\n",
       "13    [Turkish, Airlines]\n",
       "15    [Turkish, Airlines]\n",
       "17    [Turkish, Airlines]\n",
       "19    [Turkish, Airlines]\n",
       "Name: airline, dtype: object"
      ]
     },
     "execution_count": 71,
     "metadata": {},
     "output_type": "execute_result"
    }
   ],
   "source": [
    "a['airline'].str.split(' ', 1)"
   ]
  },
  {
   "cell_type": "code",
   "execution_count": 74,
   "metadata": {},
   "outputs": [
    {
     "data": {
      "text/plain": [
       "<pandas.core.strings.StringMethods at 0x1a20ee0668>"
      ]
     },
     "execution_count": 74,
     "metadata": {},
     "output_type": "execute_result"
    }
   ],
   "source": [
    "a['airline'].str.split(' ', 1).str"
   ]
  },
  {
   "cell_type": "code",
   "execution_count": 94,
   "metadata": {},
   "outputs": [
    {
     "data": {
      "text/plain": [
       "1          7.0\n",
       "3          2.0\n",
       "5          3.0\n",
       "7         10.0\n",
       "9          1.0\n",
       "11         2.0\n",
       "13         1.0\n",
       "15         2.0\n",
       "17         6.0\n",
       "19         1.0\n",
       "21         1.0\n",
       "23         1.0\n",
       "25         1.0\n",
       "27         1.0\n",
       "29         2.0\n",
       "31         3.0\n",
       "33         8.0\n",
       "35         5.0\n",
       "37         7.0\n",
       "39         7.0\n",
       "41         8.0\n",
       "43         1.0\n",
       "45         1.0\n",
       "47         4.0\n",
       "49         2.0\n",
       "51         1.0\n",
       "53        10.0\n",
       "55         2.0\n",
       "57         5.0\n",
       "59         8.0\n",
       "          ... \n",
       "131836    10.0\n",
       "131838    10.0\n",
       "131840     1.0\n",
       "131842     9.0\n",
       "131844     6.0\n",
       "131846    10.0\n",
       "131848    10.0\n",
       "131850     8.0\n",
       "131852     8.0\n",
       "131854     8.0\n",
       "131856     8.0\n",
       "131858     4.0\n",
       "131860     8.0\n",
       "131862     5.0\n",
       "131864     8.0\n",
       "131866     1.0\n",
       "131868     2.0\n",
       "131870     3.0\n",
       "131872     2.0\n",
       "131874     3.0\n",
       "131876     3.0\n",
       "131878     3.0\n",
       "131880     4.0\n",
       "131882     3.0\n",
       "131884     NaN\n",
       "131886     NaN\n",
       "131888     NaN\n",
       "131890     NaN\n",
       "131892     NaN\n",
       "131894     NaN\n",
       "Name: overall, Length: 65947, dtype: float64"
      ]
     },
     "execution_count": 94,
     "metadata": {},
     "output_type": "execute_result"
    }
   ],
   "source": [
    "skytrax.overall"
   ]
  },
  {
   "cell_type": "code",
   "execution_count": 91,
   "metadata": {},
   "outputs": [],
   "source": [
    "import math as m\n",
    "import numpy as np"
   ]
  },
  {
   "cell_type": "code",
   "execution_count": 95,
   "metadata": {},
   "outputs": [
    {
     "data": {
      "text/plain": [
       "5.145430120124342"
      ]
     },
     "execution_count": 95,
     "metadata": {},
     "output_type": "execute_result"
    }
   ],
   "source": [
    "np.mean(skytrax.overall)"
   ]
  },
  {
   "cell_type": "code",
   "execution_count": 96,
   "metadata": {},
   "outputs": [
    {
     "data": {
      "text/plain": [
       "3.477504636785173"
      ]
     },
     "execution_count": 96,
     "metadata": {},
     "output_type": "execute_result"
    }
   ],
   "source": [
    "np.std(skytrax.overall)"
   ]
  },
  {
   "cell_type": "code",
   "execution_count": null,
   "metadata": {},
   "outputs": [],
   "source": []
  }
 ],
 "metadata": {
  "kernelspec": {
   "display_name": "Python [conda env:anaconda3]",
   "language": "python",
   "name": "conda-env-anaconda3-py"
  },
  "language_info": {
   "codemirror_mode": {
    "name": "ipython",
    "version": 3
   },
   "file_extension": ".py",
   "mimetype": "text/x-python",
   "name": "python",
   "nbconvert_exporter": "python",
   "pygments_lexer": "ipython3",
   "version": "3.6.7"
  }
 },
 "nbformat": 4,
 "nbformat_minor": 2
}
